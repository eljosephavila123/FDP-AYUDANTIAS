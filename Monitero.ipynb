{
 "cells": [
  {
   "cell_type": "code",
   "execution_count": 1,
   "metadata": {},
   "outputs": [],
   "source": [
    "# Importando Librerias\n",
    "%matplotlib inline\n",
    "import numpy as np\n",
    "import matplotlib.pyplot as plt\n",
    "import pandas as pd"
   ]
  },
  {
   "cell_type": "code",
   "execution_count": 2,
   "metadata": {},
   "outputs": [],
   "source": [
    "data= pd.read_csv(\"data_monitoreo_de_moscas.csv\")"
   ]
  },
  {
   "cell_type": "code",
   "execution_count": 7,
   "metadata": {},
   "outputs": [
    {
     "data": {
      "text/plain": [
       "['ec5_uuid',\n",
       " 'created_at',\n",
       " 'uploaded_at',\n",
       " 'title',\n",
       " '1_Codigo_de_la_tramp',\n",
       " '2_Nombre_del_product',\n",
       " '4_Provincia',\n",
       " '5_Canton',\n",
       " '6_Parroquia',\n",
       " '8_Estado',\n",
       " '9_Lugar_de_instalaci',\n",
       " '10_Numero_de_sitio_d',\n",
       " '12_Tipo_de_trampa',\n",
       " '13_Tipo_de_atrayente',\n",
       " '14_Fecha_de_intalaci',\n",
       " '15_Fecha_de_servicio',\n",
       " 'lat_16_Coordenadas',\n",
       " 'long_16_Coordenadas',\n",
       " 'accuracy_16_Coordenadas',\n",
       " 'UTM_Northing_16_Coordenadas',\n",
       " 'UTM_Easting_16_Coordenadas',\n",
       " 'UTM_Zone_16_Coordenadas',\n",
       " '18_Semana_de_servici',\n",
       " '19_Exposicion',\n",
       " '20_Condicion',\n",
       " '21_Cambio_de_trampa',\n",
       " '22_Cambio_de_plug',\n",
       " '23_Numero_de_insecto',\n",
       " '24_Toma_de_muestra',\n",
       " '25_Ingrese_cdigo_de_',\n",
       " '27_Especie_vegetal',\n",
       " '28_Fase_fenologica_e',\n",
       " '29_Especie_colindant',\n",
       " '30_Fase_fenologica_e',\n",
       " '31_Foto',\n",
       " '32_Observaciones']"
      ]
     },
     "execution_count": 7,
     "metadata": {},
     "output_type": "execute_result"
    }
   ],
   "source": [
    "lista_de_columnas=list(data)\n",
    "lista_de_columnas"
   ]
  },
  {
   "cell_type": "code",
   "execution_count": 9,
   "metadata": {},
   "outputs": [
    {
     "data": {
      "text/html": [
       "<div>\n",
       "<style scoped>\n",
       "    .dataframe tbody tr th:only-of-type {\n",
       "        vertical-align: middle;\n",
       "    }\n",
       "\n",
       "    .dataframe tbody tr th {\n",
       "        vertical-align: top;\n",
       "    }\n",
       "\n",
       "    .dataframe thead th {\n",
       "        text-align: right;\n",
       "    }\n",
       "</style>\n",
       "<table border=\"1\" class=\"dataframe\">\n",
       "  <thead>\n",
       "    <tr style=\"text-align: right;\">\n",
       "      <th></th>\n",
       "      <th>ec5_uuid</th>\n",
       "      <th>created_at</th>\n",
       "      <th>uploaded_at</th>\n",
       "      <th>title</th>\n",
       "      <th>1_Codigo_de_la_tramp</th>\n",
       "      <th>2_Nombre_del_product</th>\n",
       "      <th>4_Provincia</th>\n",
       "      <th>5_Canton</th>\n",
       "      <th>6_Parroquia</th>\n",
       "      <th>8_Estado</th>\n",
       "      <th>...</th>\n",
       "      <th>22_Cambio_de_plug</th>\n",
       "      <th>23_Numero_de_insecto</th>\n",
       "      <th>24_Toma_de_muestra</th>\n",
       "      <th>25_Ingrese_cdigo_de_</th>\n",
       "      <th>27_Especie_vegetal</th>\n",
       "      <th>28_Fase_fenologica_e</th>\n",
       "      <th>29_Especie_colindant</th>\n",
       "      <th>30_Fase_fenologica_e</th>\n",
       "      <th>31_Foto</th>\n",
       "      <th>32_Observaciones</th>\n",
       "    </tr>\n",
       "  </thead>\n",
       "  <tbody>\n",
       "    <tr>\n",
       "      <th>0</th>\n",
       "      <td>df681726-bba8-45f7-97a8-f7047e90f278</td>\n",
       "      <td>2020-06-05T22:43:36.851Z</td>\n",
       "      <td>2020-06-05T22:47:06.000Z</td>\n",
       "      <td>df681726-bba8-45f7-97a8-f7047e90f278</td>\n",
       "      <td>MF00009222</td>\n",
       "      <td>Bolivar Crespo</td>\n",
       "      <td>Morona Santiago</td>\n",
       "      <td>Sucua</td>\n",
       "      <td>Huambi</td>\n",
       "      <td>Activo</td>\n",
       "      <td>...</td>\n",
       "      <td>SI</td>\n",
       "      <td>0</td>\n",
       "      <td>NO</td>\n",
       "      <td>251</td>\n",
       "      <td>Pitahaya amarilla</td>\n",
       "      <td>Fructificacion</td>\n",
       "      <td>Naranja</td>\n",
       "      <td>Desarrollo vegetativo</td>\n",
       "      <td>https://five.epicollect.net/api/media/monitore...</td>\n",
       "      <td>NaN</td>\n",
       "    </tr>\n",
       "    <tr>\n",
       "      <th>1</th>\n",
       "      <td>20d66176-9137-4e1c-868e-73ebce53fea6</td>\n",
       "      <td>2020-06-05T22:39:03.909Z</td>\n",
       "      <td>2020-06-05T22:41:01.000Z</td>\n",
       "      <td>20d66176-9137-4e1c-868e-73ebce53fea6</td>\n",
       "      <td>MF-00010267</td>\n",
       "      <td>Milton Castañeda</td>\n",
       "      <td>Morona Santiago</td>\n",
       "      <td>Palora</td>\n",
       "      <td>Sangay</td>\n",
       "      <td>Activo</td>\n",
       "      <td>...</td>\n",
       "      <td>NO</td>\n",
       "      <td>0</td>\n",
       "      <td>NO</td>\n",
       "      <td>NaN</td>\n",
       "      <td>Pitahaya amarilla</td>\n",
       "      <td>Fructificacion</td>\n",
       "      <td>Pitahaya amarilla</td>\n",
       "      <td>Fructificacion</td>\n",
       "      <td>https://five.epicollect.net/api/media/monitore...</td>\n",
       "      <td>NaN</td>\n",
       "    </tr>\n",
       "    <tr>\n",
       "      <th>2</th>\n",
       "      <td>cc7be37f-faff-4995-8c27-cccb0921bc26</td>\n",
       "      <td>2020-06-05T22:35:42.006Z</td>\n",
       "      <td>2020-06-05T22:38:54.000Z</td>\n",
       "      <td>cc7be37f-faff-4995-8c27-cccb0921bc26</td>\n",
       "      <td>MF00006574</td>\n",
       "      <td>Bolivar Crespo</td>\n",
       "      <td>Morona Santiago</td>\n",
       "      <td>Sucua</td>\n",
       "      <td>Huambi</td>\n",
       "      <td>Activo</td>\n",
       "      <td>...</td>\n",
       "      <td>NO APLICA</td>\n",
       "      <td>0</td>\n",
       "      <td>NO</td>\n",
       "      <td>MF00006574</td>\n",
       "      <td>Pitahaya amarilla</td>\n",
       "      <td>Fructificacion</td>\n",
       "      <td>Naranja</td>\n",
       "      <td>Desarrollo vegetativo</td>\n",
       "      <td>https://five.epicollect.net/api/media/monitore...</td>\n",
       "      <td>NaN</td>\n",
       "    </tr>\n",
       "    <tr>\n",
       "      <th>3</th>\n",
       "      <td>cd2db3cb-7440-4430-a620-5c6cb47107dd</td>\n",
       "      <td>2020-06-05T22:35:24.557Z</td>\n",
       "      <td>2020-06-05T22:41:04.000Z</td>\n",
       "      <td>cd2db3cb-7440-4430-a620-5c6cb47107dd</td>\n",
       "      <td>MF-00010266</td>\n",
       "      <td>Milton Castañeda</td>\n",
       "      <td>Morona Santiago</td>\n",
       "      <td>Palora</td>\n",
       "      <td>Sangay</td>\n",
       "      <td>Activo</td>\n",
       "      <td>...</td>\n",
       "      <td>NO APLICA</td>\n",
       "      <td>0</td>\n",
       "      <td>NO</td>\n",
       "      <td>NaN</td>\n",
       "      <td>Pitahaya amarilla</td>\n",
       "      <td>Fructificacion</td>\n",
       "      <td>Pitahaya amarilla</td>\n",
       "      <td>Fructificacion</td>\n",
       "      <td>https://five.epicollect.net/api/media/monitore...</td>\n",
       "      <td>NaN</td>\n",
       "    </tr>\n",
       "    <tr>\n",
       "      <th>4</th>\n",
       "      <td>c09acd68-ad9b-4bd8-b4f5-e9ae689824f7</td>\n",
       "      <td>2020-06-05T22:27:56.061Z</td>\n",
       "      <td>2020-06-05T22:40:55.000Z</td>\n",
       "      <td>c09acd68-ad9b-4bd8-b4f5-e9ae689824f7</td>\n",
       "      <td>MF-00010850</td>\n",
       "      <td>Milton Castañeda</td>\n",
       "      <td>Morona Santiago</td>\n",
       "      <td>Palora</td>\n",
       "      <td>Sangay</td>\n",
       "      <td>Activo</td>\n",
       "      <td>...</td>\n",
       "      <td>NO</td>\n",
       "      <td>0</td>\n",
       "      <td>NO</td>\n",
       "      <td>NaN</td>\n",
       "      <td>Pitahaya amarilla</td>\n",
       "      <td>Fructificacion</td>\n",
       "      <td>Pitahaya amarilla</td>\n",
       "      <td>Fructificacion</td>\n",
       "      <td>https://five.epicollect.net/api/media/monitore...</td>\n",
       "      <td>NaN</td>\n",
       "    </tr>\n",
       "    <tr>\n",
       "      <th>...</th>\n",
       "      <td>...</td>\n",
       "      <td>...</td>\n",
       "      <td>...</td>\n",
       "      <td>...</td>\n",
       "      <td>...</td>\n",
       "      <td>...</td>\n",
       "      <td>...</td>\n",
       "      <td>...</td>\n",
       "      <td>...</td>\n",
       "      <td>...</td>\n",
       "      <td>...</td>\n",
       "      <td>...</td>\n",
       "      <td>...</td>\n",
       "      <td>...</td>\n",
       "      <td>...</td>\n",
       "      <td>...</td>\n",
       "      <td>...</td>\n",
       "      <td>...</td>\n",
       "      <td>...</td>\n",
       "      <td>...</td>\n",
       "      <td>...</td>\n",
       "    </tr>\n",
       "    <tr>\n",
       "      <th>64242</th>\n",
       "      <td>62735907-de20-4abf-af39-003e4d6cc302</td>\n",
       "      <td>2015-01-01T00:20:54.427Z</td>\n",
       "      <td>2019-11-20T00:02:18.000Z</td>\n",
       "      <td>62735907-de20-4abf-af39-003e4d6cc302</td>\n",
       "      <td>MF- 00006152</td>\n",
       "      <td>ANIBAL ANDRADE</td>\n",
       "      <td>Morona Santiago</td>\n",
       "      <td>Palora</td>\n",
       "      <td>Arapicos</td>\n",
       "      <td>Activo</td>\n",
       "      <td>...</td>\n",
       "      <td>NO APLICA</td>\n",
       "      <td>0</td>\n",
       "      <td>NO</td>\n",
       "      <td>NaN</td>\n",
       "      <td>Pitahaya amarilla</td>\n",
       "      <td>Floracion</td>\n",
       "      <td>Pitahaya amarilla</td>\n",
       "      <td>Pre-cosecha</td>\n",
       "      <td>https://five.epicollect.net/api/media/monitore...</td>\n",
       "      <td>NaN</td>\n",
       "    </tr>\n",
       "    <tr>\n",
       "      <th>64243</th>\n",
       "      <td>26f2f5c5-407f-435a-b36f-24e3965907fc</td>\n",
       "      <td>2015-01-01T00:17:42.498Z</td>\n",
       "      <td>2019-11-20T00:01:57.000Z</td>\n",
       "      <td>26f2f5c5-407f-435a-b36f-24e3965907fc</td>\n",
       "      <td>MF- 00006151</td>\n",
       "      <td>ANIBAL ANDRADE</td>\n",
       "      <td>Morona Santiago</td>\n",
       "      <td>Palora</td>\n",
       "      <td>Arapicos</td>\n",
       "      <td>Activo</td>\n",
       "      <td>...</td>\n",
       "      <td>NO APLICA</td>\n",
       "      <td>0</td>\n",
       "      <td>NO</td>\n",
       "      <td>NaN</td>\n",
       "      <td>Pitahaya amarilla</td>\n",
       "      <td>Floracion</td>\n",
       "      <td>Pitahaya amarilla</td>\n",
       "      <td>Pre-cosecha</td>\n",
       "      <td>https://five.epicollect.net/api/media/monitore...</td>\n",
       "      <td>NaN</td>\n",
       "    </tr>\n",
       "    <tr>\n",
       "      <th>64244</th>\n",
       "      <td>c87f9a9a-87e2-4724-91ca-58e9932d67f9</td>\n",
       "      <td>2015-01-01T00:14:37.650Z</td>\n",
       "      <td>2019-11-20T00:01:52.000Z</td>\n",
       "      <td>c87f9a9a-87e2-4724-91ca-58e9932d67f9</td>\n",
       "      <td>MF- 00006150</td>\n",
       "      <td>ANIBAL ANDRADE</td>\n",
       "      <td>Morona Santiago</td>\n",
       "      <td>Palora</td>\n",
       "      <td>Arapicos</td>\n",
       "      <td>Activo</td>\n",
       "      <td>...</td>\n",
       "      <td>NO APLICA</td>\n",
       "      <td>0</td>\n",
       "      <td>NO</td>\n",
       "      <td>NaN</td>\n",
       "      <td>Pitahaya amarilla</td>\n",
       "      <td>Floracion</td>\n",
       "      <td>Pitahaya amarilla</td>\n",
       "      <td>Pre-cosecha</td>\n",
       "      <td>https://five.epicollect.net/api/media/monitore...</td>\n",
       "      <td>NaN</td>\n",
       "    </tr>\n",
       "    <tr>\n",
       "      <th>64245</th>\n",
       "      <td>6b635ede-28ff-4e03-b184-a5e7132ffb1d</td>\n",
       "      <td>2015-01-01T00:10:59.577Z</td>\n",
       "      <td>2019-11-20T00:01:50.000Z</td>\n",
       "      <td>6b635ede-28ff-4e03-b184-a5e7132ffb1d</td>\n",
       "      <td>MF- 00006149</td>\n",
       "      <td>ANIBAL ANDRADE</td>\n",
       "      <td>Morona Santiago</td>\n",
       "      <td>Palora</td>\n",
       "      <td>Arapicos</td>\n",
       "      <td>Activo</td>\n",
       "      <td>...</td>\n",
       "      <td>NO APLICA</td>\n",
       "      <td>0</td>\n",
       "      <td>NO</td>\n",
       "      <td>NaN</td>\n",
       "      <td>Pitahaya amarilla</td>\n",
       "      <td>Floracion</td>\n",
       "      <td>Pitahaya amarilla</td>\n",
       "      <td>Pre-cosecha</td>\n",
       "      <td>https://five.epicollect.net/api/media/monitore...</td>\n",
       "      <td>NaN</td>\n",
       "    </tr>\n",
       "    <tr>\n",
       "      <th>64246</th>\n",
       "      <td>22e5811f-faa1-412d-a5b1-c8164ab3a33e</td>\n",
       "      <td>2015-01-01T00:07:29.723Z</td>\n",
       "      <td>2019-11-20T00:01:47.000Z</td>\n",
       "      <td>22e5811f-faa1-412d-a5b1-c8164ab3a33e</td>\n",
       "      <td>MF- 00006148</td>\n",
       "      <td>ANIBAL ANDRADE</td>\n",
       "      <td>Morona Santiago</td>\n",
       "      <td>Palora</td>\n",
       "      <td>Arapicos</td>\n",
       "      <td>Activo</td>\n",
       "      <td>...</td>\n",
       "      <td>NO APLICA</td>\n",
       "      <td>0</td>\n",
       "      <td>NO</td>\n",
       "      <td>NaN</td>\n",
       "      <td>Pitahaya amarilla</td>\n",
       "      <td>Floracion</td>\n",
       "      <td>Pitahaya amarilla</td>\n",
       "      <td>Pre-cosecha</td>\n",
       "      <td>https://five.epicollect.net/api/media/monitore...</td>\n",
       "      <td>NaN</td>\n",
       "    </tr>\n",
       "  </tbody>\n",
       "</table>\n",
       "<p>64247 rows × 36 columns</p>\n",
       "</div>"
      ],
      "text/plain": [
       "                                   ec5_uuid                created_at  \\\n",
       "0      df681726-bba8-45f7-97a8-f7047e90f278  2020-06-05T22:43:36.851Z   \n",
       "1      20d66176-9137-4e1c-868e-73ebce53fea6  2020-06-05T22:39:03.909Z   \n",
       "2      cc7be37f-faff-4995-8c27-cccb0921bc26  2020-06-05T22:35:42.006Z   \n",
       "3      cd2db3cb-7440-4430-a620-5c6cb47107dd  2020-06-05T22:35:24.557Z   \n",
       "4      c09acd68-ad9b-4bd8-b4f5-e9ae689824f7  2020-06-05T22:27:56.061Z   \n",
       "...                                     ...                       ...   \n",
       "64242  62735907-de20-4abf-af39-003e4d6cc302  2015-01-01T00:20:54.427Z   \n",
       "64243  26f2f5c5-407f-435a-b36f-24e3965907fc  2015-01-01T00:17:42.498Z   \n",
       "64244  c87f9a9a-87e2-4724-91ca-58e9932d67f9  2015-01-01T00:14:37.650Z   \n",
       "64245  6b635ede-28ff-4e03-b184-a5e7132ffb1d  2015-01-01T00:10:59.577Z   \n",
       "64246  22e5811f-faa1-412d-a5b1-c8164ab3a33e  2015-01-01T00:07:29.723Z   \n",
       "\n",
       "                    uploaded_at                                 title  \\\n",
       "0      2020-06-05T22:47:06.000Z  df681726-bba8-45f7-97a8-f7047e90f278   \n",
       "1      2020-06-05T22:41:01.000Z  20d66176-9137-4e1c-868e-73ebce53fea6   \n",
       "2      2020-06-05T22:38:54.000Z  cc7be37f-faff-4995-8c27-cccb0921bc26   \n",
       "3      2020-06-05T22:41:04.000Z  cd2db3cb-7440-4430-a620-5c6cb47107dd   \n",
       "4      2020-06-05T22:40:55.000Z  c09acd68-ad9b-4bd8-b4f5-e9ae689824f7   \n",
       "...                         ...                                   ...   \n",
       "64242  2019-11-20T00:02:18.000Z  62735907-de20-4abf-af39-003e4d6cc302   \n",
       "64243  2019-11-20T00:01:57.000Z  26f2f5c5-407f-435a-b36f-24e3965907fc   \n",
       "64244  2019-11-20T00:01:52.000Z  c87f9a9a-87e2-4724-91ca-58e9932d67f9   \n",
       "64245  2019-11-20T00:01:50.000Z  6b635ede-28ff-4e03-b184-a5e7132ffb1d   \n",
       "64246  2019-11-20T00:01:47.000Z  22e5811f-faa1-412d-a5b1-c8164ab3a33e   \n",
       "\n",
       "      1_Codigo_de_la_tramp 2_Nombre_del_product      4_Provincia 5_Canton  \\\n",
       "0               MF00009222       Bolivar Crespo  Morona Santiago    Sucua   \n",
       "1              MF-00010267     Milton Castañeda  Morona Santiago   Palora   \n",
       "2               MF00006574       Bolivar Crespo  Morona Santiago    Sucua   \n",
       "3              MF-00010266     Milton Castañeda  Morona Santiago   Palora   \n",
       "4              MF-00010850     Milton Castañeda  Morona Santiago   Palora   \n",
       "...                    ...                  ...              ...      ...   \n",
       "64242         MF- 00006152       ANIBAL ANDRADE  Morona Santiago   Palora   \n",
       "64243         MF- 00006151       ANIBAL ANDRADE  Morona Santiago   Palora   \n",
       "64244         MF- 00006150       ANIBAL ANDRADE  Morona Santiago   Palora   \n",
       "64245         MF- 00006149       ANIBAL ANDRADE  Morona Santiago   Palora   \n",
       "64246         MF- 00006148       ANIBAL ANDRADE  Morona Santiago   Palora   \n",
       "\n",
       "      6_Parroquia 8_Estado  ... 22_Cambio_de_plug  23_Numero_de_insecto  \\\n",
       "0          Huambi   Activo  ...                SI                     0   \n",
       "1          Sangay   Activo  ...                NO                     0   \n",
       "2          Huambi   Activo  ...         NO APLICA                     0   \n",
       "3          Sangay   Activo  ...         NO APLICA                     0   \n",
       "4          Sangay   Activo  ...                NO                     0   \n",
       "...           ...      ...  ...               ...                   ...   \n",
       "64242    Arapicos   Activo  ...         NO APLICA                     0   \n",
       "64243    Arapicos   Activo  ...         NO APLICA                     0   \n",
       "64244    Arapicos   Activo  ...         NO APLICA                     0   \n",
       "64245    Arapicos   Activo  ...         NO APLICA                     0   \n",
       "64246    Arapicos   Activo  ...         NO APLICA                     0   \n",
       "\n",
       "      24_Toma_de_muestra 25_Ingrese_cdigo_de_ 27_Especie_vegetal  \\\n",
       "0                     NO                  251  Pitahaya amarilla   \n",
       "1                     NO                  NaN  Pitahaya amarilla   \n",
       "2                     NO           MF00006574  Pitahaya amarilla   \n",
       "3                     NO                  NaN  Pitahaya amarilla   \n",
       "4                     NO                  NaN  Pitahaya amarilla   \n",
       "...                  ...                  ...                ...   \n",
       "64242                 NO                  NaN  Pitahaya amarilla   \n",
       "64243                 NO                  NaN  Pitahaya amarilla   \n",
       "64244                 NO                  NaN  Pitahaya amarilla   \n",
       "64245                 NO                  NaN  Pitahaya amarilla   \n",
       "64246                 NO                  NaN  Pitahaya amarilla   \n",
       "\n",
       "      28_Fase_fenologica_e  29_Especie_colindant   30_Fase_fenologica_e  \\\n",
       "0           Fructificacion               Naranja  Desarrollo vegetativo   \n",
       "1           Fructificacion     Pitahaya amarilla         Fructificacion   \n",
       "2           Fructificacion               Naranja  Desarrollo vegetativo   \n",
       "3           Fructificacion     Pitahaya amarilla         Fructificacion   \n",
       "4           Fructificacion     Pitahaya amarilla         Fructificacion   \n",
       "...                    ...                   ...                    ...   \n",
       "64242            Floracion     Pitahaya amarilla            Pre-cosecha   \n",
       "64243            Floracion     Pitahaya amarilla            Pre-cosecha   \n",
       "64244            Floracion     Pitahaya amarilla            Pre-cosecha   \n",
       "64245            Floracion     Pitahaya amarilla            Pre-cosecha   \n",
       "64246            Floracion     Pitahaya amarilla            Pre-cosecha   \n",
       "\n",
       "                                                 31_Foto  32_Observaciones  \n",
       "0      https://five.epicollect.net/api/media/monitore...               NaN  \n",
       "1      https://five.epicollect.net/api/media/monitore...               NaN  \n",
       "2      https://five.epicollect.net/api/media/monitore...               NaN  \n",
       "3      https://five.epicollect.net/api/media/monitore...               NaN  \n",
       "4      https://five.epicollect.net/api/media/monitore...               NaN  \n",
       "...                                                  ...               ...  \n",
       "64242  https://five.epicollect.net/api/media/monitore...               NaN  \n",
       "64243  https://five.epicollect.net/api/media/monitore...               NaN  \n",
       "64244  https://five.epicollect.net/api/media/monitore...               NaN  \n",
       "64245  https://five.epicollect.net/api/media/monitore...               NaN  \n",
       "64246  https://five.epicollect.net/api/media/monitore...               NaN  \n",
       "\n",
       "[64247 rows x 36 columns]"
      ]
     },
     "execution_count": 9,
     "metadata": {},
     "output_type": "execute_result"
    }
   ],
   "source": [
    "data"
   ]
  },
  {
   "cell_type": "code",
   "execution_count": 8,
   "metadata": {},
   "outputs": [
    {
     "data": {
      "image/png": "[encoded data removed]",
      "text/plain": [
       "<Figure size 1440x1080 with 9 Axes>"
      ]
     },
     "metadata": {
      "needs_background": "light"
     },
     "output_type": "display_data"
    }
   ],
   "source": [
    "data.hist(bins=10, figsize=(20,15))\n",
    "plt.show()"
   ]
  },
  {
   "cell_type": "code",
   "execution_count": 6,
   "metadata": {},
   "outputs": [
    {
     "name": "stdout",
     "output_type": "stream",
     "text": [
      "Using matplotlib backend: MacOSX\n"
     ]
    },
    {
     "data": {
      "text/plain": [
       "<matplotlib.legend.Legend at 0x7fcbf2b05f10>"
      ]
     },
     "execution_count": 6,
     "metadata": {},
     "output_type": "execute_result"
    },
    {
     "data": {
      "image/png": "[encoded data removed]",
      "text/plain": [
       "<Figure size 1008x720 with 2 Axes>"
      ]
     },
     "metadata": {
      "needs_background": "light"
     },
     "output_type": "display_data"
    }
   ],
   "source": [
    "%matplotlib \n",
    "data.plot(kind='scatter', x='long_16_Coordenadas', y='lat_16_Coordenadas', alpha=1, s=data['19_Exposicion']/100., \n",
    "             label='Exposicion', figsize=(7, 5) , cmap=plt.get_cmap(name='jet'), colorbar=True)\n",
    "plt.legend()"
   ]
  },
  {
   "cell_type": "code",
   "execution_count": 12,
   "metadata": {},
   "outputs": [
    {
     "data": {
      "text/plain": [
       "Pitahaya amarilla    38306\n",
       "Pasto                 9890\n",
       "Bosque secundario     9711\n",
       "Bosque                3499\n",
       "Platano                489\n",
       "Cana de azucar         488\n",
       "No aplica              367\n",
       "Cafe                   303\n",
       "Limon                  243\n",
       "Yuca                   238\n",
       "Cacao                  195\n",
       "Guanabana              154\n",
       "Manadarina             109\n",
       "Maiz                    70\n",
       "Te                      60\n",
       "Naranja                 59\n",
       "Guaba                   34\n",
       "Pitahaya roja           13\n",
       "Pimiento                 6\n",
       "Papaya                   6\n",
       "Guayaba                  4\n",
       "Borojo                   3\n",
       "Name: 29_Especie_colindant, dtype: int64"
      ]
     },
     "execution_count": 12,
     "metadata": {},
     "output_type": "execute_result"
    }
   ],
   "source": [
    "data_colicantes=data['29_Especie_colindant'].value_counts()\n",
    "data_colicantes\n"
   ]
  },
  {
   "cell_type": "code",
   "execution_count": 13,
   "metadata": {},
   "outputs": [],
   "source": [
    "especies_colicantes_targets=['Pitahaya amarilla','Pasto','Bosque secundario','Bosque','Platano','Cana de azucar','No aplica',\n",
    "                            'Cafe','Limon','Yuca','Cacao','Guanabana','Manadarina','Maiz','Te','Naranja',\"Guaba\",\"Pitahaya roja\",\n",
    "                            \"Papaya\",\"Pimiento\",\"Guayaba\",\"Borojo\"]\n",
    "especies_colicantes_values=[int(x) for x in data_colicantes]"
   ]
  },
  {
   "cell_type": "code",
   "execution_count": 14,
   "metadata": {},
   "outputs": [
    {
     "name": "stderr",
     "output_type": "stream",
     "text": [
      "/Library/Frameworks/Python.framework/Versions/3.7/lib/python3.7/site-packages/ipykernel_launcher.py:4: MatplotlibDeprecationWarning: Adding an axes using the same arguments as a previous axes currently reuses the earlier instance.  In a future version, a new instance will always be created and returned.  Meanwhile, this warning can be suppressed, and the future behavior ensured, by passing a unique label to each axes instance.\n",
      "  after removing the cwd from sys.path.\n",
      "No handles with labels found to put in legend.\n"
     ]
    },
    {
     "name": "stdout",
     "output_type": "stream",
     "text": [
      "Using matplotlib backend: MacOSX\n"
     ]
    }
   ],
   "source": [
    "%matplotlib\n",
    "fig = plt.figure() # Figure\n",
    "plt.title('Gráfica de barras de Especies Colicantes')\n",
    "ax = fig.add_subplot(111) # Axes\n",
    "\n",
    "\n",
    "nombres = especies_colicantes_targets\n",
    "datos = especies_colicantes_values\n",
    "xx = range(len(datos))\n",
    "\n",
    "ax.bar(xx, datos, width=0.6, align='center')\n",
    "ax.set_xticks(xx)\n",
    "ax.set_xticklabels(nombres,size=5)\n",
    "ax.legend(loc='upper left', frameon=False)\n",
    "plt.show()"
   ]
  },
  {
   "cell_type": "code",
   "execution_count": 15,
   "metadata": {},
   "outputs": [
    {
     "name": "stderr",
     "output_type": "stream",
     "text": [
      "/Library/Frameworks/Python.framework/Versions/3.7/lib/python3.7/site-packages/ipykernel_launcher.py:8: MatplotlibDeprecationWarning: Adding an axes using the same arguments as a previous axes currently reuses the earlier instance.  In a future version, a new instance will always be created and returned.  Meanwhile, this warning can be suppressed, and the future behavior ensured, by passing a unique label to each axes instance.\n",
      "  \n"
     ]
    },
    {
     "data": {
      "image/png": "[encoded data removed]",
      "text/plain": [
       "<Figure size 432x288 with 1 Axes>"
      ]
     },
     "metadata": {
      "needs_background": "light"
     },
     "output_type": "display_data"
    }
   ],
   "source": [
    "%matplotlib inline\n",
    "cambio_de_trampa=data['21_Cambio_de_trampa'].value_counts()\n",
    "cambio_de_trampa_targets=data['21_Cambio_de_trampa'].unique().tolist()\n",
    "\n",
    "\n",
    "fig = plt.figure() # Figure\n",
    "plt.title('Gráfica de barras de cambio de trampa')\n",
    "ax = fig.add_subplot(111) # Axes\n",
    "\n",
    "\n",
    "nombres = [\"SI\",\"NO\"]\n",
    "datos = [4330,59886]\n",
    "xx = range(len(datos))\n",
    "\n",
    "ax.bar(xx, datos, width=0.6, align='center')\n",
    "ax.set_xticks(xx)\n",
    "ax.set_xticklabels(nombres,size=10)\n",
    "\n",
    "plt.show()"
   ]
  },
  {
   "cell_type": "code",
   "execution_count": 16,
   "metadata": {},
   "outputs": [
    {
     "data": {
      "text/plain": [
       "Fructificacion           43754\n",
       "Floracion                14138\n",
       "Desarrollo vegetativo     6292\n",
       "No aplica                   63\n",
       "Name: 28_Fase_fenologica_e, dtype: int64"
      ]
     },
     "execution_count": 16,
     "metadata": {},
     "output_type": "execute_result"
    }
   ],
   "source": [
    "data['28_Fase_fenologica_e'].value_counts()"
   ]
  },
  {
   "cell_type": "code",
   "execution_count": 17,
   "metadata": {},
   "outputs": [
    {
     "data": {
      "image/png": "[encoded data removed]",
      "text/plain": [
       "<Figure size 432x288 with 1 Axes>"
      ]
     },
     "metadata": {},
     "output_type": "display_data"
    }
   ],
   "source": [
    "#DIAGRAMA DE PIE\n",
    "\n",
    "data_especies_ = [int(x) for x in data['28_Fase_fenologica_e'].value_counts() ]\n",
    "nombres = [\"Fructificacion \",\"Floracion \",\"Desarrollo vegetativo\",\"No aplica\"]\n",
    "plt.pie(data_especies_, labels=nombres,autopct=\"%0.1f %%\")\n",
    "plt.axis(\"equal\")\n",
    "plt.show()\n"
   ]
  },
  {
   "cell_type": "code",
   "execution_count": 20,
   "metadata": {},
   "outputs": [],
   "source": [
    "total_de_moscas_capturas=sum(data['23_Numero_de_insecto'])"
   ]
  },
  {
   "cell_type": "code",
   "execution_count": 19,
   "metadata": {},
   "outputs": [
    {
     "data": {
      "text/plain": [
       "0        0\n",
       "1        0\n",
       "2        0\n",
       "3        0\n",
       "4        0\n",
       "        ..\n",
       "64242    0\n",
       "64243    0\n",
       "64244    0\n",
       "64245    0\n",
       "64246    0\n",
       "Name: 23_Numero_de_insecto, Length: 64247, dtype: int64"
      ]
     },
     "execution_count": 19,
     "metadata": {},
     "output_type": "execute_result"
    }
   ],
   "source": []
  },
  {
   "cell_type": "code",
   "execution_count": 21,
   "metadata": {},
   "outputs": [
    {
     "name": "stdout",
     "output_type": "stream",
     "text": [
      "El total de moscas capturas fueron: 69440\n"
     ]
    }
   ],
   "source": [
    "print(\"El total de moscas capturas fueron:\",total_de_moscas_capturas)"
   ]
  },
  {
   "cell_type": "code",
   "execution_count": 14,
   "metadata": {},
   "outputs": [
    {
     "data": {
      "text/plain": [
       "pandas.core.frame.DataFrame"
      ]
     },
     "execution_count": 14,
     "metadata": {},
     "output_type": "execute_result"
    }
   ],
   "source": [
    "type(data)\n"
   ]
  },
  {
   "cell_type": "code",
   "execution_count": 23,
   "metadata": {},
   "outputs": [],
   "source": [
    "numero_de_insecto=data[\"23_Numero_de_insecto\"]"
   ]
  },
  {
   "cell_type": "code",
   "execution_count": 24,
   "metadata": {},
   "outputs": [],
   "source": [
    "maximo_capturas_insectos=max(numero_de_insecto)\n",
    "minimo_capturas_insectos=min(numero_de_insecto)\n",
    "total_de_insectos_capturados=sum(numero_de_insecto)"
   ]
  },
  {
   "cell_type": "code",
   "execution_count": 25,
   "metadata": {},
   "outputs": [
    {
     "name": "stdout",
     "output_type": "stream",
     "text": [
      "Total de insectos capturados 69440\n",
      "Maximo de captura por trampa  10761\n",
      "Minimo  de captura por trampa  0\n"
     ]
    }
   ],
   "source": [
    "print(\"Total de insectos capturados \"+str(total_de_insectos_capturados))\n",
    "print(\"Maximo de captura por trampa  \"+str(maximo_capturas_insectos))\n",
    "print(\"Minimo  de captura por trampa  \"+str(minimo_capturas_insectos))"
   ]
  },
  {
   "cell_type": "code",
   "execution_count": null,
   "metadata": {},
   "outputs": [],
   "source": []
  }
 ],
 "metadata": {
  "kernelspec": {
   "display_name": "Python 3.7.6 64-bit",
   "language": "python",
   "name": "python37664bitf2e6c520b28b4a76a0247986ad62c8e3"
  },
  "language_info": {
   "codemirror_mode": {
    "name": "ipython",
    "version": 3
   },
   "file_extension": ".py",
   "mimetype": "text/x-python",
   "name": "python",
   "nbconvert_exporter": "python",
   "pygments_lexer": "ipython3",
   "version": "3.7.6"
  }
 },
 "nbformat": 4,
 "nbformat_minor": 4
}
