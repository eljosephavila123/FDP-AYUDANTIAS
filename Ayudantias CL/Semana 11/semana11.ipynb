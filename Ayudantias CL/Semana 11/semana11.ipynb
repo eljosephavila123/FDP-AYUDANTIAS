{
 "cells": [
  {
   "cell_type": "code",
   "execution_count": null,
   "metadata": {
    "colab": {},
    "colab_type": "code",
    "id": "sOr8MFq66afp"
   },
   "outputs": [],
   "source": []
  },
  {
   "cell_type": "markdown",
   "metadata": {
    "colab_type": "text",
    "id": "f8Wp1qK06eND"
   },
   "source": [
    "# Diccionarios\n",
    "\n",
    "\n",
    "*   Estructura de dato\n",
    "*   No son ordenados\n",
    "*   Consta de una clave y un valor\n",
    "\n",
    "Se representa del siguiente modo:\n",
    "\n",
    "\n",
    "```\n",
    "diccionario={clave1:valor1,clave2:valor2}\n",
    "```\n",
    "Las claves pueden ser datos de tipo numerico o String.\n",
    "\n",
    "Los valores pueden ser listas, otros diccionarios o cualquier otra estructura de datos.\n",
    "\n",
    "\n"
   ]
  },
  {
   "cell_type": "code",
   "execution_count": null,
   "metadata": {
    "colab": {},
    "colab_type": "code",
    "id": "dy5MCyYm6dJO"
   },
   "outputs": [],
   "source": []
  },
  {
   "cell_type": "markdown",
   "metadata": {
    "colab_type": "text",
    "id": "ivquEkIq_jDi"
   },
   "source": [
    "## Funciones\n",
    "\n",
    "* get()\n",
    "* setdefaut()\n",
    "* items()\n",
    "* keys()\n",
    "* values()\n",
    "* pop()"
   ]
  },
  {
   "cell_type": "code",
   "execution_count": 27,
   "metadata": {
    "colab": {},
    "colab_type": "code",
    "id": "_4UmB-Eb9aIQ"
   },
   "outputs": [],
   "source": [
    "a= dict()\n",
    "a[\"a\"]=1"
   ]
  },
  {
   "cell_type": "code",
   "execution_count": 16,
   "metadata": {},
   "outputs": [
    {
     "data": {
      "text/plain": [
       "10"
      ]
     },
     "execution_count": 16,
     "metadata": {},
     "output_type": "execute_result"
    }
   ],
   "source": [
    "a.get(\"b\",10)"
   ]
  },
  {
   "cell_type": "code",
   "execution_count": 18,
   "metadata": {
    "colab": {},
    "colab_type": "code",
    "id": "iD-enS9c9cj1"
   },
   "outputs": [
    {
     "data": {
      "text/plain": [
       "12"
      ]
     },
     "execution_count": 18,
     "metadata": {},
     "output_type": "execute_result"
    }
   ],
   "source": [
    "a.setdefault(\"b\",12)"
   ]
  },
  {
   "cell_type": "code",
   "execution_count": 21,
   "metadata": {
    "colab": {},
    "colab_type": "code",
    "id": "vmMTStqqAKxC"
   },
   "outputs": [
    {
     "data": {
      "text/plain": [
       "{'a': 1, 'b': 12}"
      ]
     },
     "execution_count": 21,
     "metadata": {},
     "output_type": "execute_result"
    }
   ],
   "source": [
    "a"
   ]
  },
  {
   "cell_type": "code",
   "execution_count": 22,
   "metadata": {
    "colab": {
     "base_uri": "https://localhost:8080/",
     "height": 34
    },
    "colab_type": "code",
    "id": "2vrBefZRC4-c",
    "outputId": "58411f0f-9685-4cb5-d6cd-be9a442d3d80"
   },
   "outputs": [
    {
     "data": {
      "text/plain": [
       "12"
      ]
     },
     "execution_count": 22,
     "metadata": {},
     "output_type": "execute_result"
    }
   ],
   "source": [
    "a.setdefault(\"b\",0)"
   ]
  },
  {
   "cell_type": "code",
   "execution_count": 23,
   "metadata": {
    "colab": {
     "base_uri": "https://localhost:8080/",
     "height": 34
    },
    "colab_type": "code",
    "id": "UnpjQ8KoDCK8",
    "outputId": "42dbbfc1-6d25-4c11-9966-3ad69f41b337"
   },
   "outputs": [],
   "source": [
    "lista=[(\"a\",1),(\"a\",3),(\"b\",4)]"
   ]
  },
  {
   "cell_type": "code",
   "execution_count": 24,
   "metadata": {
    "colab": {},
    "colab_type": "code",
    "id": "L7GpSHlyEpVi"
   },
   "outputs": [
    {
     "name": "stdout",
     "output_type": "stream",
     "text": [
      "{'a': 4, 'b': 4}\n"
     ]
    }
   ],
   "source": [
    "d=dict()\n",
    "for i in lista:\n",
    "    clave=i[0]\n",
    "    valor=i[1]\n",
    "    if clave not in d:\n",
    "        d[clave]=valor\n",
    "    else:\n",
    "        d[clave]+=valor\n",
    "print(d)"
   ]
  },
  {
   "cell_type": "code",
   "execution_count": 25,
   "metadata": {},
   "outputs": [],
   "source": [
    "d2=dict()\n",
    "for i in lista:\n",
    "    clave=i[0]\n",
    "    valor=i[1]\n",
    "    d2.setdefault(clave,0)\n",
    "    d2[clave]+=valor"
   ]
  },
  {
   "cell_type": "code",
   "execution_count": null,
   "metadata": {},
   "outputs": [],
   "source": []
  },
  {
   "cell_type": "code",
   "execution_count": 62,
   "metadata": {},
   "outputs": [],
   "source": [
    "consumo_energia = {\n",
    "    'Coca Codo Sinclair': {\n",
    "        'Quito': {'consumos': (400, 432, 213,400, 432, 213,400, 432, 213), 'tarifa': 65},\n",
    "        'Guayaquil': {'consumos': (120, 55, 32, 70,400, 432, 213,400, 432, 213), 'tarifa': 84},\n",
    "    },\n",
    "    'Sopladora': {\n",
    "        'Guayaquil': {'consumos': (310, 220, 321, 200,400, 432, 213), 'tarifa': 55},\n",
    "        'Quito': {'consumos': (400, 432, 587,400, 432, 213,400, 432, 213), 'tarifa': 79},\n",
    "        'Loja': {'consumos': (50, 32, 32, 40,400, 432, 213,400, 432, 213), 'tarifa': 32}\n",
    "    }\n",
    "}\n",
    "informacion = {\n",
    "    'costa': ('Guayaquil', 'Manta'),\n",
    "    'sierra': ('Quito', 'Ambato',\"Loja\"),\n",
    "    'oriente': ('Tena', 'Nueva Loja')\n",
    "}"
   ]
  },
  {
   "cell_type": "code",
   "execution_count": 63,
   "metadata": {},
   "outputs": [],
   "source": [
    "def totalAnual(consumo_energia,planta,ciudad):\n",
    "    consumos=consumo_energia[planta][ciudad][\"consumos\"]\n",
    "    return sum(consumos)\n"
   ]
  },
  {
   "cell_type": "code",
   "execution_count": 64,
   "metadata": {},
   "outputs": [],
   "source": [
    "def total_plantas_ciudad(consumo_energia,ciudad):\n",
    "    d=dict()\n",
    "    for planta,dic_planta in consumo_energia.items():\n",
    "        if ciudad in dic_planta:\n",
    "            d[planta]=totalAnual(consumo_energia,planta,ciudad)\n",
    "    return d"
   ]
  },
  {
   "cell_type": "code",
   "execution_count": 65,
   "metadata": {},
   "outputs": [
    {
     "data": {
      "text/plain": [
       "{'Sopladora': 2244}"
      ]
     },
     "execution_count": 65,
     "metadata": {},
     "output_type": "execute_result"
    }
   ],
   "source": [
    "total_plantas_ciudad(consumo_energia,\"Loja\")"
   ]
  },
  {
   "cell_type": "code",
   "execution_count": 66,
   "metadata": {},
   "outputs": [],
   "source": [
    "def megavatios_hora(consumo_energia,informacion,region):\n",
    "    ciudades=informacion[region]\n",
    "    suma=0\n",
    "    for ciudad in ciudades:\n",
    "        dic_consumos=total_plantas_ciudad(consumo_energia,ciudad)\n",
    "        suma+=sum(dic_consumos.values())\n",
    "    return suma"
   ]
  },
  {
   "cell_type": "code",
   "execution_count": 67,
   "metadata": {},
   "outputs": [
    {
     "data": {
      "text/plain": [
       "0"
      ]
     },
     "execution_count": 67,
     "metadata": {},
     "output_type": "execute_result"
    }
   ],
   "source": [
    "megavatios_hora(consumo_energia,informacion,\"oriente\")"
   ]
  },
  {
   "cell_type": "code",
   "execution_count": 71,
   "metadata": {},
   "outputs": [],
   "source": [
    "def facturacion(consumo_energia):\n",
    "    archivo=open(\"facturacion_2.0.txt\",\"w\")\n",
    "    archivo.write(\"Planta,enero,febrero,marzo,abril,mayo,junio\\n\")\n",
    "    for planta,dic_planta in consumo_energia.items():\n",
    "        archivo.write(planta)\n",
    "        for i in range(6):\n",
    "            suma=0\n",
    "            for dic_ciudad in dic_planta.values():\n",
    "                suma+=dic_ciudad[\"consumos\"][i]\n",
    "            archivo.write(\",\"+str(suma))\n",
    "        archivo.write(\"\\n\")\n",
    "    archivo.close()"
   ]
  },
  {
   "cell_type": "code",
   "execution_count": 72,
   "metadata": {},
   "outputs": [],
   "source": [
    "facturacion(consumo_energia)"
   ]
  },
  {
   "cell_type": "code",
   "execution_count": 78,
   "metadata": {},
   "outputs": [],
   "source": [
    "def facturacion2(consumo_energia):\n",
    "    archivo=open(\"facturacion_3.0.txt\",\"w\")\n",
    "    archivo.write(\"Planta,enero,febrero,marzo,abril,mayo,junio\\n\")\n",
    "    for planta,dic_planta in consumo_energia.items():\n",
    "        d_temp=dict()\n",
    "        for dic_ciudad in dic_planta.values():\n",
    "            consumos=dic_ciudad[\"consumos\"]\n",
    "            for i in range(6):\n",
    "                d_temp.setdefault(i,0)\n",
    "                d_temp[i]+=consumos[i]\n",
    "        archivo.write(planta)\n",
    "        for i in d_temp.values():\n",
    "            archivo.write(\",\"+str(i))\n",
    "        archivo.write(\"\\n\")\n",
    "    archivo.close()"
   ]
  },
  {
   "cell_type": "code",
   "execution_count": 85,
   "metadata": {},
   "outputs": [],
   "source": [
    "facturacion2(consumo_energia)"
   ]
  },
  {
   "cell_type": "code",
   "execution_count": null,
   "metadata": {},
   "outputs": [],
   "source": []
  },
  {
   "cell_type": "code",
   "execution_count": null,
   "metadata": {},
   "outputs": [],
   "source": []
  },
  {
   "cell_type": "code",
   "execution_count": 95,
   "metadata": {},
   "outputs": [],
   "source": [
    "def calculaTotales(categoria):\n",
    "    archivo=open(categoria+\".txt\")\n",
    "    d=dict()\n",
    "    archivo.readline()\n",
    "    for linea in archivo:\n",
    "        l_sep=linea.strip().split(\",\")\n",
    "        clave=(l_sep[0],l_sep[1],l_sep[2])\n",
    "        d.setdefault(clave,0)\n",
    "        d[clave]+=float(l_sep[3])\n",
    "    archivo.close()\n",
    "    return d"
   ]
  },
  {
   "cell_type": "code",
   "execution_count": 96,
   "metadata": {},
   "outputs": [
    {
     "data": {
      "text/plain": [
       "{('Estados Unidos', 'Ecuador', 'rosas'): 118568.0,\n",
       " ('Holanda', 'Japon', 'tulipanes'): 2384.0,\n",
       " ('Estados Unidos', 'Ecuador', 'girasoles'): 38284.0}"
      ]
     },
     "execution_count": 96,
     "metadata": {},
     "output_type": "execute_result"
    }
   ],
   "source": [
    "calculaTotales(\"Flores\")"
   ]
  },
  {
   "cell_type": "code",
   "execution_count": 99,
   "metadata": {},
   "outputs": [],
   "source": [
    "def consolidado(nomArchivo,categorias):\n",
    "    archivo=open(nomArchivo+\".txt\",\"w\")\n",
    "    archivo.write(\"Comprador,Vendedor,Categoria,Producto,VentasTotales\\n\")\n",
    "    for categoria in categorias:\n",
    "        dict_pro=calculaTotales(categoria)\n",
    "        for clave, valor in dict_pro.items():\n",
    "            archivo.write(clave[0]+\",\"+categoria+\",\"+clave[1]+\",\"+clave[2]+\",\"+str(valor)+\"\\n\")\n",
    "    "
   ]
  },
  {
   "cell_type": "code",
   "execution_count": 100,
   "metadata": {},
   "outputs": [],
   "source": [
    "consolidado(\"PruebaAyudantia\",[\"Flores\",\"Maderas\"])"
   ]
  },
  {
   "cell_type": "code",
   "execution_count": null,
   "metadata": {},
   "outputs": [],
   "source": []
  }
 ],
 "metadata": {
  "colab": {
   "name": "semana11.ipynb",
   "provenance": []
  },
  "kernelspec": {
   "display_name": "Python 3",
   "language": "python",
   "name": "python3"
  },
  "language_info": {
   "codemirror_mode": {
    "name": "ipython",
    "version": 3
   },
   "file_extension": ".py",
   "mimetype": "text/x-python",
   "name": "python",
   "nbconvert_exporter": "python",
   "pygments_lexer": "ipython3",
   "version": "3.7.6"
  }
 },
 "nbformat": 4,
 "nbformat_minor": 1
}
