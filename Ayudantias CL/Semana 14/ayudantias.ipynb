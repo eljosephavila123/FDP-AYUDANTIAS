{
 "cells": [
  {
   "cell_type": "code",
   "execution_count": 28,
   "metadata": {},
   "outputs": [],
   "source": [
    "def academico(narchivos):\n",
    "    notas=dict()\n",
    "    for archivo in narchivos:\n",
    "        semestre=archivo[6:-4]\n",
    "        archivo=open(archivo)\n",
    "        for linea in archivo:\n",
    "            matricula,materia,notaP,notaF,notaM,estado=linea.strip().split(\",\")\n",
    "            d_semestres=notas.setdefault(matricula,dict())\n",
    "            listaMaterias=d_semestres.setdefault(semestre,[])\n",
    "            listaMaterias.append((materia,notaP,notaF,notaM,estado))\n",
    "    return notas"
   ]
  },
  {
   "cell_type": "code",
   "execution_count": 29,
   "metadata": {},
   "outputs": [
    {
     "data": {
      "text/plain": [
       "{'200901456': {'2013-II': [('Fisica I', '80', '91', '73', 'AP')]},\n",
       " '201321454': {'2013-II': [('Quimica', '45', '57', '73', 'AP'),\n",
       "   ('Fundamentos de Programacion', '11', '9', '9', 'RP')],\n",
       "  '2015-I': [('Economia', '12', '21', '33', 'RP'),\n",
       "   ('Fundamentos de Programacion', '45', '76', '89', 'AP')]},\n",
       " '201121372': {'2013-II': [('Economia', '73', '82', '83', 'AP')]},\n",
       " '201521342': {'2015-I': [('Fundamentos de Programacion',\n",
       "    '80',\n",
       "    '95',\n",
       "    '99',\n",
       "    'AP')]}}"
      ]
     },
     "execution_count": 29,
     "metadata": {},
     "output_type": "execute_result"
    }
   ],
   "source": [
    "notas=(\"notas-2013-II.csv\",\"notas-2015-I.csv\")\n",
    "d_notas=academico(notas)\n",
    "d_notas"
   ]
  },
  {
   "cell_type": "code",
   "execution_count": 30,
   "metadata": {},
   "outputs": [],
   "source": [
    "def semestres(notas, matricula):\n",
    "    semestres_dict=notas[matricula]\n",
    "    return tuple(semestres_dict.keys())\n",
    "        "
   ]
  },
  {
   "cell_type": "code",
   "execution_count": 31,
   "metadata": {},
   "outputs": [],
   "source": [
    "sems=semestres(d_notas,\"201321454\")"
   ]
  },
  {
   "cell_type": "code",
   "execution_count": 43,
   "metadata": {},
   "outputs": [],
   "source": [
    "def nota_academico(notas,matricula,materia):\n",
    "    d_sems=notas[matricula]\n",
    "    for materias in d_sems.values():\n",
    "        for m in materias:\n",
    "            if m[0]==materia:\n",
    "                n=m[1:-1]\n",
    "                return sorted(n,reverse=True)[0:2]"
   ]
  },
  {
   "cell_type": "code",
   "execution_count": 44,
   "metadata": {},
   "outputs": [],
   "source": [
    "nota=nota_academico(d_notas,\"201321454\",\"Fundamentos de Programacion\")"
   ]
  },
  {
   "cell_type": "code",
   "execution_count": 71,
   "metadata": {},
   "outputs": [],
   "source": [
    "def mas_aprobados(notas,semestre):\n",
    "    d=dict()\n",
    "    for matricula,semestres in notas.items():\n",
    "        materias=semestres.get(semestre,0)\n",
    "        if materias!=0:\n",
    "            for materia in materias:\n",
    "                print(materia[-1])\n",
    "                if materia[-1]==\"AP\":\n",
    "                    d.setdefault(materia[0],0)\n",
    "                    d[materia[0]]+=1\n",
    "    maximo=0\n",
    "    for m,valor in d.items():\n",
    "        if maximo<valor:\n",
    "            maximo=valor\n",
    "    return maximo"
   ]
  },
  {
   "cell_type": "code",
   "execution_count": null,
   "metadata": {},
   "outputs": [],
   "source": []
  },
  {
   "cell_type": "code",
   "execution_count": null,
   "metadata": {},
   "outputs": [],
   "source": []
  },
  {
   "cell_type": "code",
   "execution_count": null,
   "metadata": {},
   "outputs": [],
   "source": []
  },
  {
   "cell_type": "code",
   "execution_count": null,
   "metadata": {},
   "outputs": [],
   "source": []
  },
  {
   "cell_type": "code",
   "execution_count": null,
   "metadata": {},
   "outputs": [],
   "source": []
  }
 ],
 "metadata": {
  "kernelspec": {
   "display_name": "Python 3",
   "language": "python",
   "name": "python3"
  },
  "language_info": {
   "codemirror_mode": {
    "name": "ipython",
    "version": 3
   },
   "file_extension": ".py",
   "mimetype": "text/x-python",
   "name": "python",
   "nbconvert_exporter": "python",
   "pygments_lexer": "ipython3",
   "version": "3.7.6"
  }
 },
 "nbformat": 4,
 "nbformat_minor": 4
}
