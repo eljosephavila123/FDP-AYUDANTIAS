{
 "cells": [
  {
   "cell_type": "code",
   "execution_count": 62,
   "metadata": {},
   "outputs": [],
   "source": [
    "def academico(nArchivos):\n",
    "    d=dict()\n",
    "    for nAr in nArchivos:\n",
    "        nsemestre=nAr[6:-4]\n",
    "        archivo=open(nAr)\n",
    "        for linea in archivo:\n",
    "            matricula,materia,np,nf,nm,estado=linea.strip().split(\",\")\n",
    "            d_semestres=d.setdefault(matricula,dict())\n",
    "            materias=d_semestres.setdefault(nsemestre,list())\n",
    "            materias.append((materia,float(np),float(nf),float(nm),estado))\n",
    "        archivo.close()\n",
    "    return d            "
   ]
  },
  {
   "cell_type": "code",
   "execution_count": 63,
   "metadata": {},
   "outputs": [],
   "source": [
    "notas=(\"notas-2013-II.csv\",\"notas-2015-I.csv\")\n",
    "d_notas=academico(notas)"
   ]
  },
  {
   "cell_type": "code",
   "execution_count": 64,
   "metadata": {},
   "outputs": [],
   "source": [
    "def semestres(notas,matricula):\n",
    "    return tuple(notas[matricula].keys())"
   ]
  },
  {
   "cell_type": "code",
   "execution_count": 70,
   "metadata": {},
   "outputs": [],
   "source": [
    "s=semestres(d_notas,\"201121372\")"
   ]
  },
  {
   "cell_type": "code",
   "execution_count": 71,
   "metadata": {},
   "outputs": [],
   "source": [
    "def nota_academico(notas,matricula,materia):\n",
    "    d_semestres=notas[matricula]\n",
    "    promedio=0\n",
    "    for materias in d_semestres.values():\n",
    "        for m in materias:\n",
    "            if m[0]==materia:\n",
    "                notas_p=m[1:-1]\n",
    "                notas_p=sorted(notas_p,reverse=True)\n",
    "                p=(notas_p[0]+notas_p[1])/2\n",
    "                if promedio<p:\n",
    "                    promedio=p\n",
    "    return promedio"
   ]
  },
  {
   "cell_type": "code",
   "execution_count": 74,
   "metadata": {},
   "outputs": [
    {
     "data": {
      "text/plain": [
       "82.5"
      ]
     },
     "execution_count": 74,
     "metadata": {},
     "output_type": "execute_result"
    }
   ],
   "source": [
    "nota_academico(d_notas,\"201321454\",\"Fundamentos de Programacion\")"
   ]
  },
  {
   "cell_type": "code",
   "execution_count": null,
   "metadata": {},
   "outputs": [],
   "source": []
  },
  {
   "cell_type": "code",
   "execution_count": null,
   "metadata": {},
   "outputs": [],
   "source": [
    "def mas_aprobados(notas,semestre):\n",
    "    d=dict()\n",
    "    for matricula,semestres in notas.items():\n",
    "        materias=semestres.get(semestre,0)\n",
    "        if materias!=0:\n",
    "            for materia in materias:\n",
    "                print(materia[-1])\n",
    "                if materia[-1]==\"AP\":\n",
    "                    d.setdefault(materia[0],0)\n",
    "                    d[materia[0]]+=1\n",
    "    maximo=0\n",
    "    for m,valor in d.items():\n",
    "        if maximo<valor:\n",
    "            maximo=valor\n",
    "    return maximo"
   ]
  },
  {
   "cell_type": "code",
   "execution_count": null,
   "metadata": {},
   "outputs": [],
   "source": []
  }
 ],
 "metadata": {
  "kernelspec": {
   "display_name": "Python 3",
   "language": "python",
   "name": "python3"
  },
  "language_info": {
   "codemirror_mode": {
    "name": "ipython",
    "version": 3
   },
   "file_extension": ".py",
   "mimetype": "text/x-python",
   "name": "python",
   "nbconvert_exporter": "python",
   "pygments_lexer": "ipython3",
   "version": "3.7.6"
  }
 },
 "nbformat": 4,
 "nbformat_minor": 4
}
