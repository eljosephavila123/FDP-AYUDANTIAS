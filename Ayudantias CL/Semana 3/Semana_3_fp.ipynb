{
  "nbformat": 4,
  "nbformat_minor": 0,
  "metadata": {
    "colab": {
      "name": "Semana_3_fp",
      "provenance": []
    },
    "kernelspec": {
      "name": "python3",
      "display_name": "Python 3"
    }
  },
  "cells": [
    {
      "cell_type": "code",
      "metadata": {
        "id": "IIBN1SYOPIWO",
        "colab_type": "code",
        "colab": {}
      },
      "source": [
        ""
      ],
      "execution_count": 0,
      "outputs": []
    },
    {
      "cell_type": "markdown",
      "metadata": {
        "id": "f973G_jHPdiR",
        "colab_type": "text"
      },
      "source": [
        "#Ciclo For\n"
      ]
    },
    {
      "cell_type": "markdown",
      "metadata": {
        "id": "WBQ4JjvfQKtN",
        "colab_type": "text"
      },
      "source": [
        "##Sintaxis\n",
        "\n",
        "\n",
        "\n",
        "```\n",
        "for i in algo:\n",
        "  #do something\n",
        "```\n",
        "\n",
        "\n"
      ]
    },
    {
      "cell_type": "markdown",
      "metadata": {
        "id": "YZQQgS5VQ5XN",
        "colab_type": "text"
      },
      "source": [
        "##Uso con Strings"
      ]
    },
    {
      "cell_type": "code",
      "metadata": {
        "id": "GDvLub_vQG8Y",
        "colab_type": "code",
        "colab": {
          "base_uri": "https://localhost:8080/",
          "height": 85
        },
        "outputId": "0b074ac7-826d-4b23-f896-bece170608b9"
      },
      "source": [
        "s=\"Hola\"\n",
        "for caracter in s:\n",
        "  print(caracter)"
      ],
      "execution_count": 9,
      "outputs": [
        {
          "output_type": "stream",
          "text": [
            "H\n",
            "o\n",
            "l\n",
            "a\n"
          ],
          "name": "stdout"
        }
      ]
    },
    {
      "cell_type": "code",
      "metadata": {
        "id": "dgUgy0osRCNU",
        "colab_type": "code",
        "colab": {}
      },
      "source": [
        ""
      ],
      "execution_count": 0,
      "outputs": []
    },
    {
      "cell_type": "markdown",
      "metadata": {
        "id": "0UAdDtjc7Wu3",
        "colab_type": "text"
      },
      "source": [
        "###Ejercicio 1\n",
        "\n",
        "\n",
        "```\n",
        "Si el usuario ingresa 2, deberá ingresar a un subprograma \n",
        "donde le pedirá que ingrese una palabra y un número y el \n",
        "sistema le mostrara cada letra repetida el número de veces \n",
        "indicado. Ej.\n",
        "\n",
        "Ingrese una palabra: Rafael\n",
        "Ingrese un numero: 3\n",
        "La palabra ingresada tiene 6 letras\n",
        "RRR\n",
        "aaa\n",
        "fff\n",
        "aaa\n",
        "eee\n",
        "lll\n",
        "\n",
        "```\n",
        "\n",
        "\n"
      ]
    },
    {
      "cell_type": "code",
      "metadata": {
        "id": "Lh1EIr0fZa7D",
        "colab_type": "code",
        "colab": {
          "base_uri": "https://localhost:8080/",
          "height": 153
        },
        "outputId": "caa6988b-e190-4644-def9-b74f31bca3c1"
      },
      "source": [
        "palabra=input(\"Ingrese la palabra: \")\n",
        "numero=int(input(\"Ingrese la cantidad: \"))\n",
        "for caracter in palabra:\n",
        "  print(caracter*numero)\n"
      ],
      "execution_count": 12,
      "outputs": [
        {
          "output_type": "stream",
          "text": [
            "Ingrese la palabra: Rafael\n",
            "Ingrese la cantidad: 3\n",
            "RRR\n",
            "aaa\n",
            "fff\n",
            "aaa\n",
            "eee\n",
            "lll\n"
          ],
          "name": "stdout"
        }
      ]
    },
    {
      "cell_type": "markdown",
      "metadata": {
        "id": "B7_a9ooX2d6y",
        "colab_type": "text"
      },
      "source": [
        "##Uso con el Range\n"
      ]
    },
    {
      "cell_type": "code",
      "metadata": {
        "id": "-75R5MHZ2hjP",
        "colab_type": "code",
        "colab": {
          "base_uri": "https://localhost:8080/",
          "height": 102
        },
        "outputId": "6d691a84-2624-41de-80b2-7f91ef21b749"
      },
      "source": [
        "numero=[1,2,3,4,5,6,7,8,9,10]\n",
        "intervalo=list(range(1,100))\n",
        "intervalo=list(range(100))\n",
        "for i in range(5):\n",
        "  print(\"Carlos\")"
      ],
      "execution_count": 16,
      "outputs": [
        {
          "output_type": "stream",
          "text": [
            "Carlos\n",
            "Carlos\n",
            "Carlos\n",
            "Carlos\n",
            "Carlos\n"
          ],
          "name": "stdout"
        }
      ]
    },
    {
      "cell_type": "markdown",
      "metadata": {
        "id": "cXDjMiSY214P",
        "colab_type": "text"
      },
      "source": [
        "###Ejercicio 1\n",
        "\n",
        "\n",
        "```\n",
        "Escribir un programa que pida al usuario una palabra y la muestre por pantalla 10 veces.\n",
        "```\n",
        "\n"
      ]
    },
    {
      "cell_type": "code",
      "metadata": {
        "id": "LLkEWF9y3mu8",
        "colab_type": "code",
        "colab": {
          "base_uri": "https://localhost:8080/",
          "height": 204
        },
        "outputId": "f26f0eb4-0bf5-4604-fcb1-1fe2da32ab3a"
      },
      "source": [
        "palabra=input(\"Ingrese Palabra: \")\n",
        "for i in range(10):\n",
        "  print(palabra)"
      ],
      "execution_count": 18,
      "outputs": [
        {
          "output_type": "stream",
          "text": [
            "Ingrese Palabra: Hola\n",
            "Hola\n",
            "Hola\n",
            "Hola\n",
            "Hola\n",
            "Hola\n",
            "Hola\n",
            "Hola\n",
            "Hola\n",
            "Hola\n",
            "Hola\n"
          ],
          "name": "stdout"
        }
      ]
    },
    {
      "cell_type": "markdown",
      "metadata": {
        "id": "eZHoAUZ13nE4",
        "colab_type": "text"
      },
      "source": [
        "###Ejercicio 2\n",
        "\n",
        "\n",
        "```\n",
        "Escribir un programa que pregunte al usuario su edad y muestre por pantalla\n",
        "todos los años que ha cumplido (desde 1 hasta su edad).\n",
        "```\n",
        "\n"
      ]
    },
    {
      "cell_type": "code",
      "metadata": {
        "id": "QeLRfjGO4U50",
        "colab_type": "code",
        "colab": {
          "base_uri": "https://localhost:8080/",
          "height": 272
        },
        "outputId": "15c95695-870e-4b2d-8bca-2ff7d9b6e9be"
      },
      "source": [
        "edad= int(input(\"Ingrese su edad: \"))\n",
        "for i in range(edad):\n",
        "  print(i+1)"
      ],
      "execution_count": 19,
      "outputs": [
        {
          "output_type": "stream",
          "text": [
            "Ingrese su edad: 14\n",
            "1\n",
            "2\n",
            "3\n",
            "4\n",
            "5\n",
            "6\n",
            "7\n",
            "8\n",
            "9\n",
            "10\n",
            "11\n",
            "12\n",
            "13\n",
            "14\n"
          ],
          "name": "stdout"
        }
      ]
    },
    {
      "cell_type": "markdown",
      "metadata": {
        "id": "UqKeiWlX5Jqt",
        "colab_type": "text"
      },
      "source": [
        "###Ejercicio 3\n",
        "\n",
        "\n",
        "```\n",
        "Escribir un programa que pida al usuario un número entero y muestre por \n",
        "pantalla un triángulo rectángulo como el de más abajo, de altura el número \n",
        "introducido.\n",
        "ejem:\n",
        ">Ingrese un numero: 4\n",
        "*\n",
        "**\n",
        "***\n",
        "****\n",
        "```\n",
        "\n"
      ]
    },
    {
      "cell_type": "code",
      "metadata": {
        "id": "GQO3qaTQ5LkJ",
        "colab_type": "code",
        "colab": {
          "base_uri": "https://localhost:8080/",
          "height": 102
        },
        "outputId": "bef2d944-1f28-4df5-d99f-3817d60d4ce3"
      },
      "source": [
        "numero=int(input(\"Ingrese un numero: \"))\n",
        "l=[0,1,2,3]\n",
        "for i in range(1,numero+1):\n",
        "  print(\"*\"*(i)+  str(i))"
      ],
      "execution_count": 24,
      "outputs": [
        {
          "output_type": "stream",
          "text": [
            "Ingrese un numero: 4\n",
            "*1\n",
            "**2\n",
            "***3\n",
            "****4\n"
          ],
          "name": "stdout"
        }
      ]
    },
    {
      "cell_type": "markdown",
      "metadata": {
        "id": "0N0iGc6F7itc",
        "colab_type": "text"
      },
      "source": [
        "###Ejercicio 4\n",
        "\n",
        "\n",
        "```\n",
        "Escribir un programa que pida al usuario una palabra y luego muestre por \n",
        "pantalla una a una las letras de la palabra introducida empezando por la última.\n",
        "```"
      ]
    },
    {
      "cell_type": "code",
      "metadata": {
        "id": "WwrL_osbe_H0",
        "colab_type": "code",
        "colab": {
          "base_uri": "https://localhost:8080/",
          "height": 102
        },
        "outputId": "8418c40d-7be3-4eea-fe46-44e7e0ce90f5"
      },
      "source": [
        "palabra=input(\"Ingrese la palabra: \")\n",
        "nuevaPalabra=palabra[::-1]\n",
        "for caracter in nuevaPalabra:\n",
        "  print(caracter)"
      ],
      "execution_count": 26,
      "outputs": [
        {
          "output_type": "stream",
          "text": [
            "Ingrese la palabra: hola\n",
            "a\n",
            "l\n",
            "o\n",
            "h\n"
          ],
          "name": "stdout"
        }
      ]
    },
    {
      "cell_type": "code",
      "metadata": {
        "id": "OA9bC86IfmA_",
        "colab_type": "code",
        "colab": {
          "base_uri": "https://localhost:8080/",
          "height": 85
        },
        "outputId": "e4c39a51-d7ec-4769-daa8-1a24285f4782"
      },
      "source": [
        "cantidad=len(palabra)\n",
        "for i in range(1,cantidad+1):\n",
        "  negativo=i*-1\n",
        "  print(palabra[negativo])"
      ],
      "execution_count": 28,
      "outputs": [
        {
          "output_type": "stream",
          "text": [
            "a\n",
            "l\n",
            "o\n",
            "h\n"
          ],
          "name": "stdout"
        }
      ]
    },
    {
      "cell_type": "markdown",
      "metadata": {
        "id": "1l9tWmPaRGxw",
        "colab_type": "text"
      },
      "source": [
        "##Uso en listas"
      ]
    },
    {
      "cell_type": "code",
      "metadata": {
        "id": "6qfMS97QRJes",
        "colab_type": "code",
        "colab": {}
      },
      "source": [
        "lista=[\"Camila Loja\",\"Carlos Rodriguez\",\"Emanuel Santos\"]"
      ],
      "execution_count": 0,
      "outputs": []
    },
    {
      "cell_type": "code",
      "metadata": {
        "id": "1YvpO5u_RQ0Y",
        "colab_type": "code",
        "colab": {
          "base_uri": "https://localhost:8080/",
          "height": 68
        },
        "outputId": "d26bd2f0-ff33-4a6e-8df1-c6202817ac89"
      },
      "source": [
        "for elemento in lista:\n",
        "  print(elemento)\n",
        "  "
      ],
      "execution_count": 31,
      "outputs": [
        {
          "output_type": "stream",
          "text": [
            "Camila Loja\n",
            "Carlos Rodriguez\n",
            "Emanuel Santos\n"
          ],
          "name": "stdout"
        }
      ]
    },
    {
      "cell_type": "code",
      "metadata": {
        "id": "s65hs3B9hux7",
        "colab_type": "code",
        "colab": {
          "base_uri": "https://localhost:8080/",
          "height": 68
        },
        "outputId": "34c992e1-faf0-424a-ee1a-398f9671c493"
      },
      "source": [
        "for indice in range(len(lista)):\n",
        "  print(indice)"
      ],
      "execution_count": 33,
      "outputs": [
        {
          "output_type": "stream",
          "text": [
            "0\n",
            "1\n",
            "2\n"
          ],
          "name": "stdout"
        }
      ]
    },
    {
      "cell_type": "markdown",
      "metadata": {
        "id": "bcs6VhdI9J6L",
        "colab_type": "text"
      },
      "source": [
        "###Ejercicio 5\n",
        "\n",
        "\n",
        "```\n",
        "Escribir un programa que pregunte al usuario los números ganadores de la \n",
        "lotería primitiva 6 veces, los almacene en una lista y los muestre por pantalla \n",
        "ordenados de menor a mayor.\n",
        "```\n",
        "\n"
      ]
    },
    {
      "cell_type": "code",
      "metadata": {
        "id": "1lNaAIuzh_JX",
        "colab_type": "code",
        "colab": {
          "base_uri": "https://localhost:8080/",
          "height": 85
        },
        "outputId": "e788009f-0d49-472e-8b71-90815eb96a28"
      },
      "source": [
        "lista=[]\n",
        "for i in range(3):\n",
        "  ingreso=float(input(\"Ingrese un numero : \"))\n",
        "  lista.append(ingreso)\n",
        "  lista2=sorted(lista)\n",
        "#lista.sort()\n",
        "print(lista2)\n"
      ],
      "execution_count": 46,
      "outputs": [
        {
          "output_type": "stream",
          "text": [
            "Ingrese un numero : 1\n",
            "Ingrese un numero : 25\n",
            "Ingrese un numero : 8\n",
            "[1.0, 8.0, 25.0]\n"
          ],
          "name": "stdout"
        }
      ]
    },
    {
      "cell_type": "code",
      "metadata": {
        "id": "k0J8LamikSfE",
        "colab_type": "code",
        "colab": {
          "base_uri": "https://localhost:8080/",
          "height": 34
        },
        "outputId": "b68f1f8c-97dd-477c-e4a0-6ed6a909e5ef"
      },
      "source": [
        "\n"
      ],
      "execution_count": 44,
      "outputs": [
        {
          "output_type": "stream",
          "text": [
            "[2, 25, 52, 100]\n"
          ],
          "name": "stdout"
        }
      ]
    },
    {
      "cell_type": "markdown",
      "metadata": {
        "id": "yzLExTHgRdHg",
        "colab_type": "text"
      },
      "source": [
        "###Recorrido de Listas Paralelas\n",
        "\n",
        "\n",
        "*   zip\n",
        "*   Enumerate\n",
        "\n"
      ]
    },
    {
      "cell_type": "code",
      "metadata": {
        "id": "U5SRM7xARjTS",
        "colab_type": "code",
        "colab": {
          "base_uri": "https://localhost:8080/",
          "height": 68
        },
        "outputId": "808d2485-1e97-41b5-8977-1fd6329c5b63"
      },
      "source": [
        "nombres=[\"carlos\",\"Rodrigo\",\"Melissa\"]\n",
        "edades=[15,17,20]\n",
        "for indice in range(len(edades)):\n",
        "  nombre=nombres[indice]\n",
        "  edad=edades[indice]\n",
        "  print(\"%s tiene %d\"%(nombre,edad) )\n",
        "  #print('{0} tiene {1}'.format(nombre,edad))"
      ],
      "execution_count": 58,
      "outputs": [
        {
          "output_type": "stream",
          "text": [
            "carlos tiene 15\n",
            "Rodrigo tiene 17\n",
            "Melissa tiene 20\n"
          ],
          "name": "stdout"
        }
      ]
    },
    {
      "cell_type": "code",
      "metadata": {
        "id": "DK_nEw0x0yZY",
        "colab_type": "code",
        "colab": {
          "base_uri": "https://localhost:8080/",
          "height": 68
        },
        "outputId": "fe33989b-1c9e-4864-df0e-01a3e15e631a"
      },
      "source": [
        "for elemento1,elemento2 in zip(nombres,edades):\n",
        "  print(\"%s tiene %d\"%(elemento1,elemento2))\n"
      ],
      "execution_count": 59,
      "outputs": [
        {
          "output_type": "stream",
          "text": [
            "carlos tiene 15\n",
            "Rodrigo tiene 17\n",
            "Melissa tiene 20\n"
          ],
          "name": "stdout"
        }
      ]
    },
    {
      "cell_type": "code",
      "metadata": {
        "id": "Zr1gEaf6qXrL",
        "colab_type": "code",
        "colab": {
          "base_uri": "https://localhost:8080/",
          "height": 68
        },
        "outputId": "27637bb6-748c-4637-a176-1857ae264677"
      },
      "source": [
        "for indice,elemento in enumerate(nombres):\n",
        "  print(\"%d    %s\"%(edades[indice],elemento))"
      ],
      "execution_count": 61,
      "outputs": [
        {
          "output_type": "stream",
          "text": [
            "15    carlos\n",
            "17    Rodrigo\n",
            "20    Melissa\n"
          ],
          "name": "stdout"
        }
      ]
    },
    {
      "cell_type": "markdown",
      "metadata": {
        "id": "EU-msYAU-cLr",
        "colab_type": "text"
      },
      "source": [
        "####Ejercicio 6\n",
        "\n",
        "\n",
        "```\n",
        "Suponer que tienen las siguientes listas:\n",
        "nombres=[\"Carlos Loja\",\"Javier Guevara\",\"Robert Ruiz\",\"Camila Ramirez\"]\n",
        "notas=[10,9,7,7]\n",
        "sustentacion=[0.5,0.9,1,1]\n",
        "mostrar por pantalla la nota final de cada uno, si la misma \n",
        "se determina con la multiplicacion de la nota con la \n",
        "sustentacion, ademas se conoce que las tres listas son \n",
        "paralelas.\n",
        "```\n",
        "\n"
      ]
    },
    {
      "cell_type": "code",
      "metadata": {
        "id": "RiHLev6D6bqG",
        "colab_type": "code",
        "colab": {
          "base_uri": "https://localhost:8080/",
          "height": 85
        },
        "outputId": "9b49c371-e61b-4bfa-a080-57931223b567"
      },
      "source": [
        "nombres=[\"Carlos Loja\",\"Javier Guevara\",\"Robert Ruiz\",\"Camila Ramirez\"]\n",
        "notas=[10,9,7,7]\n",
        "sustentaciones=[0.5,0.9,1,1]\n",
        "for nombre,nota,sustentacion in zip(nombres,notas,sustentaciones):\n",
        "  notafinal=sustentacion*nota\n",
        "  print(\"Nota final de %s  es %d\"%(nombre,notafinal))"
      ],
      "execution_count": 65,
      "outputs": [
        {
          "output_type": "stream",
          "text": [
            "Nota final de Carlos Loja  es 5\n",
            "Nota final de Javier Guevara  es 8\n",
            "Nota final de Robert Ruiz  es 7\n",
            "Nota final de Camila Ramirez  es 7\n"
          ],
          "name": "stdout"
        }
      ]
    },
    {
      "cell_type": "code",
      "metadata": {
        "id": "znexUvCxBfCA",
        "colab_type": "code",
        "colab": {}
      },
      "source": [
        ""
      ],
      "execution_count": 0,
      "outputs": []
    },
    {
      "cell_type": "markdown",
      "metadata": {
        "id": "pk5nR5-LDONl",
        "colab_type": "text"
      },
      "source": [
        "#Introduccion al if\n",
        "\n",
        "\n",
        "```\n",
        "#Pseudocodigo\n",
        "si algo es correcto:\n",
        "  haz esto\n",
        "si no lo es :\n",
        "  haz otra cosa\n",
        "\n",
        "#en python\n",
        "\n",
        "if correcto :\n",
        "  #haz algo\n",
        "else:\n",
        "  #suede otra cosa\n",
        "```\n",
        "\n"
      ]
    },
    {
      "cell_type": "code",
      "metadata": {
        "id": "eJw0aoQ8s6Ov",
        "colab_type": "code",
        "colab": {
          "base_uri": "https://localhost:8080/",
          "height": 68
        },
        "outputId": "2eef8466-9d1d-44f1-d48c-cb67ece2b3d3"
      },
      "source": [
        "nombre=input (\"Ingresa un nombre: \")\n",
        "edad=int(input(\"Edad: \"))\n",
        "if nombre==\"Carlos\" and edad==14:\n",
        "  print(\"Carlos Estuvo aqui\",edad)\n",
        "else:\n",
        "  print(\"Carlos No estuvo aqui\")"
      ],
      "execution_count": 68,
      "outputs": [
        {
          "output_type": "stream",
          "text": [
            "Ingresa un nombre: Carlos\n",
            "Edad: 14\n",
            "Carlos Estuvo aqui 14\n"
          ],
          "name": "stdout"
        }
      ]
    },
    {
      "cell_type": "code",
      "metadata": {
        "id": "PmsJbLyGsUT3",
        "colab_type": "code",
        "colab": {
          "base_uri": "https://localhost:8080/",
          "height": 34
        },
        "outputId": "9a29d3f8-fdb1-4747-e0d3-5d72bb0f8e3f"
      },
      "source": [
        "\n"
      ],
      "execution_count": 66,
      "outputs": [
        {
          "output_type": "execute_result",
          "data": {
            "text/plain": [
              "True"
            ]
          },
          "metadata": {
            "tags": []
          },
          "execution_count": 66
        }
      ]
    },
    {
      "cell_type": "markdown",
      "metadata": {
        "id": "PaYvJUaADxxR",
        "colab_type": "text"
      },
      "source": [
        "## Ejercicio 7\n",
        "\n",
        "```\n",
        "Solicitar el ingreso de un numero entero y determinar si es par o no.\n",
        "En caso de que sea par imprimir \"Es par\", caso contrario, \"Es impar\". Ejem:\n",
        "\n",
        ">Ingrese un numero: 5\n",
        "El numero ingresado es impar\n",
        "```\n",
        "\n"
      ]
    },
    {
      "cell_type": "code",
      "metadata": {
        "id": "U9DbOMGYEmct",
        "colab_type": "code",
        "colab": {
          "base_uri": "https://localhost:8080/",
          "height": 51
        },
        "outputId": "a59cad6a-c07f-4b67-9c75-7d39a0a20a8f"
      },
      "source": [
        "ingreso=int(input(\"Ingrese numero: \"))\n",
        "if ingreso%2 == 0:\n",
        "  print(\"El numero es par\")\n",
        "elif ingreso<5:\n",
        "  print(\"El numero es menor a 5\")\n",
        "else:\n",
        "  print(\"El numero es mayor a 5\")\n"
      ],
      "execution_count": 72,
      "outputs": [
        {
          "output_type": "stream",
          "text": [
            "Ingrese numero: 3\n",
            "El numero es menor a 5\n"
          ],
          "name": "stdout"
        }
      ]
    },
    {
      "cell_type": "code",
      "metadata": {
        "id": "XiisupRNG8-r",
        "colab_type": "code",
        "colab": {
          "base_uri": "https://localhost:8080/",
          "height": 34
        },
        "outputId": "9a8b1ada-d944-4c10-f533-09f21d76c481"
      },
      "source": [
        ""
      ],
      "execution_count": 70,
      "outputs": [
        {
          "output_type": "execute_result",
          "data": {
            "text/plain": [
              "0"
            ]
          },
          "metadata": {
            "tags": []
          },
          "execution_count": 70
        }
      ]
    },
    {
      "cell_type": "markdown",
      "metadata": {
        "id": "nQsta_8ZHgkU",
        "colab_type": "text"
      },
      "source": [
        "##Ejercicio 8\n",
        "\n",
        "\n",
        "```\n",
        "Se tiene la siguiente lista de calificaciones y nombres:\n",
        "calificaciones[7,5,3,4]\n",
        "nombres=[\"Carlos Loja\",\"Javier Guevara\",\"Robert Ruiz\",\"Camila Ramirez\"]\n",
        "Se pide mostrar por pantalla si el estudiante aprobo o no(Aprueba si su calificacion es mayor a 6), de la siguiente \n",
        "forma:\n",
        "\"El estudiante Carlos Loja ha aprobado\"\n",
        "\"El estudiante Javier Guevara ha reprobado\"\n",
        "...\n",
        "```\n",
        "\n"
      ]
    },
    {
      "cell_type": "code",
      "metadata": {
        "id": "1Xtw2jYlIY6N",
        "colab_type": "code",
        "colab": {}
      },
      "source": [
        ""
      ],
      "execution_count": 0,
      "outputs": []
    }
  ]
}