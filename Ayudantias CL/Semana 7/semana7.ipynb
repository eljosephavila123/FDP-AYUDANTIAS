{
  "nbformat": 4,
  "nbformat_minor": 0,
  "metadata": {
    "colab": {
      "name": "semana7.ipynb",
      "provenance": [],
      "collapsed_sections": []
    },
    "kernelspec": {
      "name": "python3",
      "display_name": "Python 3"
    }
  },
  "cells": [
    {
      "cell_type": "code",
      "metadata": {
        "id": "CtNIYbS-bE9v",
        "colab_type": "code",
        "colab": {}
      },
      "source": [
        "\n"
      ],
      "execution_count": null,
      "outputs": []
    },
    {
      "cell_type": "markdown",
      "metadata": {
        "id": "VutG8g4zbMVj",
        "colab_type": "text"
      },
      "source": [
        "#Arreglos\n",
        "\n",
        "\n",
        "\n",
        "*   Agrupacion de elementos\n",
        "*   Son matrices\n",
        "*   En python utilizamos numpy para representarlos"
      ]
    },
    {
      "cell_type": "markdown",
      "metadata": {
        "id": "xEulSUmfbOjC",
        "colab_type": "text"
      },
      "source": [
        "#Numpy\n",
        "\n",
        "\n",
        "*   Libreria usada principalmente para ciencia de datos\n",
        "*   Conjunto de herramientas para diferentes areas como algebra lineal, matrices, estadistica, etc.\n"
      ]
    },
    {
      "cell_type": "markdown",
      "metadata": {
        "id": "tBBFaM6lb1gb",
        "colab_type": "text"
      },
      "source": [
        "##Arreglos en numpy\n",
        "\n",
        "* Una colección de elementos que son todos del mismo tipo,\n",
        "* Que tienen una o más dimensiones\n",
        "* Que son indexados por una tupla de enteros no negativos."
      ]
    },
    {
      "cell_type": "code",
      "metadata": {
        "id": "0K_rtLlGac6u",
        "colab_type": "code",
        "colab": {}
      },
      "source": [
        "import numpy as np"
      ],
      "execution_count": null,
      "outputs": []
    },
    {
      "cell_type": "code",
      "metadata": {
        "id": "R9gLoAN-b3DT",
        "colab_type": "code",
        "colab": {
          "base_uri": "https://localhost:8080/",
          "height": 34
        },
        "outputId": "635f3e5a-b218-419d-edf7-a122cff2be7e"
      },
      "source": [
        "np.concatenate( (np.array([1,2,3]),np.array([2,3,4,5])),axis=0)\n"
      ],
      "execution_count": null,
      "outputs": [
        {
          "output_type": "execute_result",
          "data": {
            "text/plain": [
              "array([1, 2, 3, 2, 3, 4, 5])"
            ]
          },
          "metadata": {
            "tags": []
          },
          "execution_count": 26
        }
      ]
    },
    {
      "cell_type": "markdown",
      "metadata": {
        "id": "gHLEeRgAeZeg",
        "colab_type": "text"
      },
      "source": [
        "##Propiedades\n",
        "* ndim\n",
        "* shape\n",
        "* dtype\n",
        "* size\n"
      ]
    },
    {
      "cell_type": "code",
      "metadata": {
        "id": "D0TXeAk6rhoA",
        "colab_type": "code",
        "colab": {}
      },
      "source": [
        "arr=np.array([[1,2,3,4],[1,2,3,4]])\n",
        "estudiante=np.array([\"Carlos Loja\",\"Andres Loja\",\"Juan Loja\",\"Pedro Loja\"])"
      ],
      "execution_count": null,
      "outputs": []
    },
    {
      "cell_type": "code",
      "metadata": {
        "id": "jtEpN51IeerB",
        "colab_type": "code",
        "colab": {
          "base_uri": "https://localhost:8080/",
          "height": 50
        },
        "outputId": "a7115502-a8b0-49fb-b09f-24fbb94defe2"
      },
      "source": [
        "condicion=arr>=3\n",
        "condicion"
      ],
      "execution_count": null,
      "outputs": [
        {
          "output_type": "execute_result",
          "data": {
            "text/plain": [
              "array([[False, False,  True,  True],\n",
              "       [False, False,  True,  True]])"
            ]
          },
          "metadata": {
            "tags": []
          },
          "execution_count": 53
        }
      ]
    },
    {
      "cell_type": "code",
      "metadata": {
        "id": "kPGf6ZATryOq",
        "colab_type": "code",
        "colab": {
          "base_uri": "https://localhost:8080/",
          "height": 33
        },
        "outputId": "e8e3ec5c-e827-4143-f2c5-3e2c91d864a9"
      },
      "source": [
        "estudiante[condicion]"
      ],
      "execution_count": null,
      "outputs": [
        {
          "output_type": "execute_result",
          "data": {
            "text/plain": [
              "array(['Juan Loja', 'Pedro Loja'], dtype='<U11')"
            ]
          },
          "metadata": {
            "tags": []
          },
          "execution_count": 45
        }
      ]
    },
    {
      "cell_type": "code",
      "metadata": {
        "id": "uLy3jxgQtbPt",
        "colab_type": "code",
        "colab": {
          "base_uri": "https://localhost:8080/",
          "height": 33
        },
        "outputId": "801b08f4-830e-416f-9657-76e14e761c7f"
      },
      "source": [
        "condicion=np.where(arr>=3)\n",
        "condicion"
      ],
      "execution_count": null,
      "outputs": [
        {
          "output_type": "execute_result",
          "data": {
            "text/plain": [
              "(array([0, 0, 1, 1]), array([2, 3, 2, 3]))"
            ]
          },
          "metadata": {
            "tags": []
          },
          "execution_count": 54
        }
      ]
    },
    {
      "cell_type": "code",
      "metadata": {
        "id": "-9FxP20Btuto",
        "colab_type": "code",
        "colab": {
          "base_uri": "https://localhost:8080/",
          "height": 33
        },
        "outputId": "13a0fd71-130b-4b17-bc5c-a63731fff89f"
      },
      "source": [
        "estudiante[condicion]"
      ],
      "execution_count": null,
      "outputs": [
        {
          "output_type": "execute_result",
          "data": {
            "text/plain": [
              "array(['Juan Loja', 'Pedro Loja'], dtype='<U11')"
            ]
          },
          "metadata": {
            "tags": []
          },
          "execution_count": 50
        }
      ]
    },
    {
      "cell_type": "markdown",
      "metadata": {
        "id": "hqh3L7nzeeEy",
        "colab_type": "text"
      },
      "source": [
        "##Ejercicio 1\n",
        "\n",
        "\n",
        "\n",
        "```\n",
        "Dispone de una tabla con el desempeño histórico (estadística) de los jugadores equipos (país) que participan en el Mundial de Futbol:\n",
        "\n",
        "\n",
        "\n",
        "```\n",
        "![](https://drive.google.com/uc?export=view&id=1P8vssyjKC5S2_uz5Cs4-xoR7E3XGdMO6)\n",
        "![](https://drive.google.com/uc?export=view&id=1hBTQFB2KKLh2x-LKRZ7MSlASPugR55i0)\n",
        "![](https://drive.google.com/uc?export=view&id=1e6HP5H55K6iVYdliLuBZAyMSLRiV8Gbz)\n",
        "\n"
      ]
    },
    {
      "cell_type": "code",
      "metadata": {
        "id": "Ii7jAmDRf3yy",
        "colab_type": "code",
        "colab": {}
      },
      "source": [
        "M=np.array([[1,2,3,4],[1,2,3,4]])\n",
        "promedios=[]\n",
        "indiceActual=0\n",
        "indiceFinal=0\n",
        "for paises in jugadores_paises:\n",
        "  indiceFinal+=len(paises)\n",
        "  array=M[0,indiceActual:indiceFinal]\n",
        "  promedio=np.mean(array)\n",
        "  indiceActual+=indiceFinal\n",
        "a=np.array(promedios)\n",
        "indice=np.argmax(a)\n",
        "pais=paises[indice]"
      ],
      "execution_count": null,
      "outputs": []
    },
    {
      "cell_type": "code",
      "metadata": {
        "id": "h7WC8TBSw0cc",
        "colab_type": "code",
        "colab": {}
      },
      "source": [
        "paises=np.array(paises)\n",
        "indice=np.where(paises==\"España\")[0][0]\n",
        "indiceInicio=0\n",
        "for i in range(indice):\n",
        "  tamanio=len(jugadores_paises[i])\n",
        "  indiceInicio+=tamanio\n",
        "\n",
        "indiceFinal=len(jugadores_paises[indice])\n",
        "efectividad=(M[0,indiceInicio:indiceFinal])/(M[-1,indiceInicio:indiceFinal])\n",
        "promedio=np.mean(efectividad)\n",
        "cantidad=len(np.where(efectividad>promedio)[0])"
      ],
      "execution_count": null,
      "outputs": []
    },
    {
      "cell_type": "code",
      "metadata": {
        "id": "THvZZ7rvy-oE",
        "colab_type": "code",
        "colab": {
          "base_uri": "https://localhost:8080/",
          "height": 33
        },
        "outputId": "381ddec1-b1de-4978-9da5-c44a56c519d0"
      },
      "source": [
        "a=np.array(jugadores_paises[0])\n",
        "for i in jugadores_paises[1:]:\n",
        "  a=np.concatenate((a,np.array(i)))\n",
        "posesion=M[-3,:]\n",
        "condicion=np.where(posesion>=75)\n",
        "jugadores=a[condicion]"
      ],
      "execution_count": null,
      "outputs": [
        {
          "output_type": "execute_result",
          "data": {
            "text/plain": [
              "array([1, 2, 3, 1, 2, 3, 1, 2, 3])"
            ]
          },
          "metadata": {
            "tags": []
          },
          "execution_count": 87
        }
      ]
    },
    {
      "cell_type": "code",
      "metadata": {
        "id": "hai7GwXAzfTE",
        "colab_type": "code",
        "colab": {}
      },
      "source": [
        "indiceMax=np.argmax(M[-2,:])\n",
        "indicePais=indiceMax//len(jugadores_paises[0])\n",
        "pais=paises[indicePais]\n",
        "nombre=a[indiceMax]"
      ],
      "execution_count": null,
      "outputs": []
    },
    {
      "cell_type": "code",
      "metadata": {
        "id": "uUKji8qJ6qnt",
        "colab_type": "code",
        "colab": {
          "base_uri": "https://localhost:8080/",
          "height": 223
        },
        "outputId": "bc8cac7f-1ad4-4bd2-ff7b-ab607ac3c4e4"
      },
      "source": [
        "\n"
      ],
      "execution_count": null,
      "outputs": [
        {
          "output_type": "error",
          "ename": "ValueError",
          "evalue": "ignored",
          "traceback": [
            "\u001b[0;31m---------------------------------------------------------------------------\u001b[0m",
            "\u001b[0;31mValueError\u001b[0m                                Traceback (most recent call last)",
            "\u001b[0;32m<ipython-input-92-ecd6c0cd0311>\u001b[0m in \u001b[0;36m<module>\u001b[0;34m()\u001b[0m\n\u001b[1;32m      1\u001b[0m \u001b[0ma\u001b[0m\u001b[0;34m=\u001b[0m\u001b[0mnp\u001b[0m\u001b[0;34m.\u001b[0m\u001b[0marray\u001b[0m\u001b[0;34m(\u001b[0m\u001b[0;34m[\u001b[0m\u001b[0;34m[\u001b[0m\u001b[0;36m1\u001b[0m\u001b[0;34m,\u001b[0m\u001b[0;36m2\u001b[0m\u001b[0;34m,\u001b[0m\u001b[0;36m3\u001b[0m\u001b[0;34m,\u001b[0m\u001b[0;36m4\u001b[0m\u001b[0;34m]\u001b[0m\u001b[0;34m,\u001b[0m\u001b[0;34m[\u001b[0m\u001b[0;36m2\u001b[0m\u001b[0;34m,\u001b[0m\u001b[0;36m3\u001b[0m\u001b[0;34m,\u001b[0m\u001b[0;36m4\u001b[0m\u001b[0;34m,\u001b[0m\u001b[0;36m5\u001b[0m\u001b[0;34m]\u001b[0m\u001b[0;34m]\u001b[0m\u001b[0;34m)\u001b[0m\u001b[0;34m\u001b[0m\u001b[0;34m\u001b[0m\u001b[0m\n\u001b[1;32m      2\u001b[0m \u001b[0me\u001b[0m\u001b[0;34m=\u001b[0m\u001b[0mnp\u001b[0m\u001b[0;34m.\u001b[0m\u001b[0msum\u001b[0m\u001b[0;34m(\u001b[0m\u001b[0ma\u001b[0m\u001b[0;34m,\u001b[0m\u001b[0maxis\u001b[0m\u001b[0;34m=\u001b[0m\u001b[0;36m0\u001b[0m\u001b[0;34m)\u001b[0m\u001b[0;34m\u001b[0m\u001b[0;34m\u001b[0m\u001b[0m\n\u001b[0;32m----> 3\u001b[0;31m \u001b[0mf\u001b[0m\u001b[0;34m=\u001b[0m\u001b[0mnp\u001b[0m\u001b[0;34m.\u001b[0m\u001b[0msubtract\u001b[0m\u001b[0;34m(\u001b[0m\u001b[0ma\u001b[0m\u001b[0;34m,\u001b[0m\u001b[0maxis\u001b[0m\u001b[0;34m=\u001b[0m\u001b[0;36m1\u001b[0m\u001b[0;34m)\u001b[0m\u001b[0;34m\u001b[0m\u001b[0;34m\u001b[0m\u001b[0m\n\u001b[0m\u001b[1;32m      4\u001b[0m \u001b[0mprint\u001b[0m\u001b[0;34m(\u001b[0m\u001b[0me\u001b[0m\u001b[0;34m)\u001b[0m\u001b[0;34m\u001b[0m\u001b[0;34m\u001b[0m\u001b[0m\n\u001b[1;32m      5\u001b[0m \u001b[0mprint\u001b[0m\u001b[0;34m(\u001b[0m\u001b[0mf\u001b[0m\u001b[0;34m)\u001b[0m\u001b[0;34m\u001b[0m\u001b[0;34m\u001b[0m\u001b[0m\n",
            "\u001b[0;31mValueError\u001b[0m: invalid number of arguments"
          ]
        }
      ]
    },
    {
      "cell_type": "markdown",
      "metadata": {
        "id": "2TfwBP0Mf4PS",
        "colab_type": "text"
      },
      "source": [
        "##Ejercicio 2\n",
        "\n",
        "La fábrica ACME se encarga de fabricar diversos componentes para vehículos. Para esto, tiene varias líneas de fabricación.\n",
        "\n",
        "Asuma que tiene los siguientes arreglos:\n",
        "\n",
        "\n",
        "\n",
        "```\n",
        "P  = np.array([\"ct-32\", \"mto-990\", \"ct-32\"...])\n",
        "PF = np.array([789, 1500, 900 ...])\n",
        "PD = np.array([26, 35, 70, ...])\n",
        "D  = np.array([300, 12, 100, ...])\n",
        "CF = np.array([1000, 2000, 1100, ...])\n",
        "```\n",
        "\n",
        "Donde​ P​ es un arreglo con los códigos de las piezas fabricadas.\n",
        "\n",
        "El arreglo​ **PF** tiene la cantidad total de piezas fabricadas en el día.\n",
        "\n",
        "El arreglo​ **PD** indica la cantidad de piezas defectuosas por producto en el día.\n",
        "\n",
        "El arreglo​ **D** ​indica el día del año de fabricación de la pieza (1 a 365).\n",
        "\n",
        "Finalmente, el arreglo **​CF** ​indica cuales la capacidad máxima de productos que se pueden fabricar, para cada tipo de pieza, en un día determinado.\n",
        "\n",
        "​Un mismo producto se puede fabricar varias veces al año pero no varias veces en un mismo día.\n",
        "\n",
        "**a.** ​Escriba una función llamada​ **produccionAnual**(codigo,P,PF) que retorne la cantidad total de piezas ​código​ fabricadas en el año.\n",
        "\n",
        "**b.** El rendimiento de fabricación de un producto se mide de la siguiente forma:\n",
        ">$rendimiento= \\frac{total piezas fabricadas−total piezas defectuosas}{total Capacidad}$\n",
        "\n",
        "Escriba la función **rendimientoPromedio**(codigo, P, PF, PD, CF, D)​ que retorna el rendimientopromedio diario para ​codigo​. El rendimiento promedio diario es igual a rendimiento/total_dias_fabricacion.\n",
        "\n",
        "**c.** ​Escriba la función ​**porcentajeAnualDefecto**(codigo, P, PD, PF)​, que retorna el porcentaje de defectos que tiene un ​código​. El porcentaje de defectos se calcula como sigue:\n",
        ">$porcentaje Defectos= \\frac{total piezas defectuosas}{total piezas fabricadas}(100)$\n",
        "\n",
        "**d.** Escriba la función ​**productosDefectuosos**(codigos, P, PF, PD, porcentajemax)​, que retorna un arreglo con los códigos de los productos que están en la lista ​codigos​ y que tengan porcentaje de defectos mayor a l valor dado por la variable «porcentajemax»​.\n",
        "\n",
        "**e.** ​Escriba la función ​**minimoPorcentajeDefecto**(P, PF, PD)​, que retorna como resultado el código del producto con el menor porcentaje anual de defectos."
      ]
    },
    {
      "cell_type": "code",
      "metadata": {
        "id": "nTt2lWfPvbgn",
        "colab_type": "code",
        "colab": {}
      },
      "source": [
        ""
      ],
      "execution_count": null,
      "outputs": []
    },
    {
      "cell_type": "markdown",
      "metadata": {
        "id": "G6vkjPFjvb71",
        "colab_type": "text"
      },
      "source": [
        "##Ejercicio 3\n",
        "El Black Friday inaugura la temporada de compras navideñas con significativas rebajas en muchas tiendas minoristas y grandes almacenes.\n",
        "\n",
        "Sucede después de la celebración de Acción de Gracias en Estados Unidos.\n",
        "\n",
        "Suponga que posee los datos de los productos de una tienda en los siguientes arreglos:\n",
        "\n",
        "**C**: códigos de todos los productos (cadenas de caracteres).\n",
        "\n",
        "**P**: precios en dólares para cada uno de los productos (valores con decimales .\n",
        "\n",
        "**D**: descuentos asociados a cada producto (enteros entre 0 y 100)\n",
        "\n",
        "**S**: nombre de la sección donde se encuentra cada producto (cadenas de caracteres)\n",
        "\n",
        "Se requiere implementar las siguientes funciones:\n",
        "\n",
        ">1.**calcularPrecio**(codigo,C,P,D) que recibe un código y los arreglos C,P,D y retorna el precio final del producto, aplicando el descuento correspondiente.\n",
        "Para calcular el precio final, aplique las siguiente fórmula:\n",
        "\n",
        ">$preciofinal=precio-precio*\\frac{descuento}{100}$\n",
        "\n",
        ">2.**calcularTotal**(compras,C,P,D) que recibe una lista de **compras** con los códigos de los productos, los arreglos C,P,D y aplicando todos los descuentos calcula el valor total a **pagar**, .\n",
        "\n",
        ">3.**hallarSecciones**(**compras**,C,S) que recibe una lista de **compras** con los códigos de los productos, los arreglos C y S y determina las secciones que deberán **visitar** durante las compras. La lista de visitas no tiene elementos repetidos.\n",
        "\n",
        ">4.**descuentosPorSección** (D,S) que recibe los arrelgos D y S y retorna una **tabla** con el nombre de cada sección y la cantidad de productos que tienen más del 50% de descuento.\n",
        "\n",
        "\n",
        "Realice un programa que inicialmente muestre una tabla con las secciones y cantidad de productos con más del 50% de descuento. Luego para las compras, permita ingresar los códigos de los productos, procese y muestre el valor total a pagar y las secciones que necesita visitar. El usuario terminará de ingresar las compras escribiendo ‘fin’.\n",
        "\n",
        "Ejemplos de arreglos:\n",
        "\n",
        "\n",
        "```\n",
        "C = ['CTR-2424', 'SKU-5675', 'PSS-4542']\n",
        "P = [ 56.65, 32.00, 22.22]\n",
        "D = [0, 50, 10]\n",
        "S = ['Ropa Niños', 'Juguetes', 'Hombre']\n",
        "```\n",
        "\n"
      ]
    },
    {
      "cell_type": "code",
      "metadata": {
        "id": "bAp-vrK8AGfI",
        "colab_type": "code",
        "colab": {}
      },
      "source": [
        ""
      ],
      "execution_count": null,
      "outputs": []
    },
    {
      "cell_type": "code",
      "metadata": {
        "id": "sDvthIKYAJlC",
        "colab_type": "code",
        "colab": {}
      },
      "source": [
        ""
      ],
      "execution_count": null,
      "outputs": []
    },
    {
      "cell_type": "code",
      "metadata": {
        "id": "fPejMH67ATNW",
        "colab_type": "code",
        "colab": {}
      },
      "source": [
        ""
      ],
      "execution_count": null,
      "outputs": []
    },
    {
      "cell_type": "code",
      "metadata": {
        "id": "mOu8zLbLAXdO",
        "colab_type": "code",
        "colab": {}
      },
      "source": [
        ""
      ],
      "execution_count": null,
      "outputs": []
    },
    {
      "cell_type": "code",
      "metadata": {
        "id": "qQfrRoRRA7nF",
        "colab_type": "code",
        "colab": {}
      },
      "source": [
        ""
      ],
      "execution_count": null,
      "outputs": []
    }
  ]
}