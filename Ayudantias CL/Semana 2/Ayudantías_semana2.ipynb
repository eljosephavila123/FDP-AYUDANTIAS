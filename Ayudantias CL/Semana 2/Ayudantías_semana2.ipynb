{
  "nbformat": 4,
  "nbformat_minor": 0,
  "metadata": {
    "colab": {
      "name": "Ayudantías_semana2.ipynb",
      "provenance": []
    },
    "kernelspec": {
      "name": "python3",
      "display_name": "Python 3"
    }
  },
  "cells": [
    {
      "cell_type": "code",
      "metadata": {
        "id": "sopOE86X0f8I",
        "colab_type": "code",
        "colab": {}
      },
      "source": [
        ""
      ],
      "execution_count": 0,
      "outputs": []
    },
    {
      "cell_type": "markdown",
      "metadata": {
        "id": "jF6X0i4Ku4il",
        "colab_type": "text"
      },
      "source": [
        "#Tipos de datos\n",
        "\n",
        "\n",
        "\n",
        "*   Numéricos\n",
        " *  int \n",
        " *  float\n",
        "\n",
        "\n",
        "\n",
        "*   Lógicos\n",
        " *  boolean\n",
        "*   Cadena de Caracteres\n",
        " *  string\n",
        "\n",
        "\n",
        "\n"
      ]
    },
    {
      "cell_type": "code",
      "metadata": {
        "id": "rVhnT4MK1b67",
        "colab_type": "code",
        "colab": {}
      },
      "source": [
        "boolean=True\n",
        "boolean2=False\n",
        "v= 'hola'"
      ],
      "execution_count": 0,
      "outputs": []
    },
    {
      "cell_type": "markdown",
      "metadata": {
        "id": "qfbGIY2iwItk",
        "colab_type": "text"
      },
      "source": [
        "#Operadores Aritméticos\n",
        "\n",
        "\n",
        "*   Suma (+) \n",
        " * 2+2=4\n",
        "*   Resta (-) \n",
        " * 4-2=2\n",
        "*   Multiplicación (*) \n",
        " * 2 * 8=16\n",
        "*   División (/) \n",
        " * 2/2=1\n",
        "*   División Entera (//) \n",
        " * 9//2=4\n",
        "*   Módulo (%) \n",
        " * 9%2=1\n",
        "*   Potenciación (**) \n",
        " * 2  * * 3= 8\n",
        "\n"
      ]
    },
    {
      "cell_type": "code",
      "metadata": {
        "id": "cadSEMWD1mS-",
        "colab_type": "code",
        "colab": {}
      },
      "source": [
        ""
      ],
      "execution_count": 0,
      "outputs": []
    },
    {
      "cell_type": "markdown",
      "metadata": {
        "id": "ntwHt0HHx6HO",
        "colab_type": "text"
      },
      "source": [
        "#Operadores Relacionales\n",
        "\n",
        "\n",
        "*   Igual que (==) 4==4 \n",
        " * True\n",
        "*   Distinto que (!=) 4!=4 \n",
        " * False\n",
        "*   Mayor que (>) 4 > 2 \n",
        " * True\n",
        "*   Menor que (<) 10 < 4 \n",
        " * False\n",
        "*   Mayor o igual que (>=)  \n",
        " * 90>=90 True\n",
        "*   Menor o igual que (<=)  \n",
        " * 90<=100 True\n",
        "\n"
      ]
    },
    {
      "cell_type": "code",
      "metadata": {
        "id": "6awFYTv_1pFb",
        "colab_type": "code",
        "colab": {}
      },
      "source": [
        ""
      ],
      "execution_count": 0,
      "outputs": []
    },
    {
      "cell_type": "markdown",
      "metadata": {
        "id": "imcNGu9b0LCu",
        "colab_type": "text"
      },
      "source": [
        "#Conectores Lógicos\n",
        "\n",
        "\n",
        "*   and (conjunción)\n",
        " *  2>1 and 1==4 igual a False\n",
        "*   or (disyunción)\n",
        " *  2>1 or 1==4 igual a True\n",
        "*   not (Negación) not (10< 5) igual a True\n",
        "\n"
      ]
    },
    {
      "cell_type": "code",
      "metadata": {
        "id": "rXk0sLoe_Nya",
        "colab_type": "code",
        "colab": {}
      },
      "source": [
        ""
      ],
      "execution_count": 0,
      "outputs": []
    },
    {
      "cell_type": "markdown",
      "metadata": {
        "id": "Rx6JA7eS2Q_f",
        "colab_type": "text"
      },
      "source": [
        "# Strings\n",
        "\n",
        "\n",
        "*   Operaciones\n",
        "\n"
      ]
    },
    {
      "cell_type": "code",
      "metadata": {
        "id": "z_1oJRLm2jC1",
        "colab_type": "code",
        "outputId": "929db485-b055-403c-8c13-8021f10b9b3a",
        "colab": {
          "base_uri": "https://localhost:8080/",
          "height": 72
        }
      },
      "source": [
        "v=\"hola \"\n",
        "p=v*5\n",
        "print(p)\n",
        "\n",
        "b=\"mundo\"\n",
        "print(b+ \" Juan\")\n",
        "print(b)\n"
      ],
      "execution_count": 0,
      "outputs": [
        {
          "output_type": "stream",
          "text": [
            "hola hola hola hola hola \n",
            "mundo Juan\n",
            "mundo\n"
          ],
          "name": "stdout"
        }
      ]
    },
    {
      "cell_type": "code",
      "metadata": {
        "id": "17UGWIHV22Bv",
        "colab_type": "code",
        "colab": {}
      },
      "source": [
        ""
      ],
      "execution_count": 0,
      "outputs": []
    },
    {
      "cell_type": "markdown",
      "metadata": {
        "id": "Bxk0laJf3uBJ",
        "colab_type": "text"
      },
      "source": [
        "#Indices\n",
        "![image.png](data:image/png;base64,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)"
      ]
    },
    {
      "cell_type": "code",
      "metadata": {
        "id": "LPredZtk4PGc",
        "colab_type": "code",
        "outputId": "ca5ff668-eab7-4035-a964-da9bc59197a7",
        "colab": {
          "base_uri": "https://localhost:8080/",
          "height": 90
        }
      },
      "source": [
        "v=\"Hello\"\n",
        "print(v[0])\n",
        "print(v[-1])\n",
        "print(v[1:])\n",
        "print(v[1:-1])"
      ],
      "execution_count": 0,
      "outputs": [
        {
          "output_type": "stream",
          "text": [
            "H\n",
            "o\n",
            "ello\n",
            "ell\n"
          ],
          "name": "stdout"
        }
      ]
    },
    {
      "cell_type": "markdown",
      "metadata": {
        "id": "C2WWpAjB4r5N",
        "colab_type": "text"
      },
      "source": [
        "#Busqueda\n",
        "##Index"
      ]
    },
    {
      "cell_type": "code",
      "metadata": {
        "id": "KpVNdH1C41Om",
        "colab_type": "code",
        "outputId": "d0b06d42-31e5-435c-e2cf-e072817b3ff6",
        "colab": {
          "base_uri": "https://localhost:8080/",
          "height": 35
        }
      },
      "source": [
        "v=\"Hola\"\n",
        "#index\n",
        "indice1=v.index(\"p\")\n",
        "print(indice1)\n",
        "\n",
        "#find\n",
        "indice2=v.find(\"p\")\n",
        "print(indice2)"
      ],
      "execution_count": 0,
      "outputs": [
        {
          "output_type": "stream",
          "text": [
            "-1\n"
          ],
          "name": "stdout"
        }
      ]
    },
    {
      "cell_type": "code",
      "metadata": {
        "id": "viLZ59VF4_n6",
        "colab_type": "code",
        "colab": {}
      },
      "source": [
        ""
      ],
      "execution_count": 0,
      "outputs": []
    },
    {
      "cell_type": "markdown",
      "metadata": {
        "id": "s7VYwMft7_wg",
        "colab_type": "text"
      },
      "source": [
        "#Ingreso de información\n",
        "Utilizacion del input()"
      ]
    },
    {
      "cell_type": "code",
      "metadata": {
        "id": "KunTPlr98DFk",
        "colab_type": "code",
        "outputId": "b5a63003-3675-4da5-aa2b-13d4d007e95a",
        "colab": {
          "base_uri": "https://localhost:8080/",
          "height": 54
        }
      },
      "source": [
        "v=input(\"Ingrese su edad \")\n",
        "print(v)"
      ],
      "execution_count": 0,
      "outputs": [
        {
          "output_type": "stream",
          "text": [
            "Ingrese su edad 14\n",
            "14\n"
          ],
          "name": "stdout"
        }
      ]
    },
    {
      "cell_type": "code",
      "metadata": {
        "id": "xt_pGhDG8QxQ",
        "colab_type": "code",
        "outputId": "89474986-a02c-4fdc-e72a-f49988bff8d0",
        "colab": {
          "base_uri": "https://localhost:8080/",
          "height": 35
        }
      },
      "source": [
        ""
      ],
      "execution_count": 0,
      "outputs": [
        {
          "output_type": "stream",
          "text": [
            "14\n"
          ],
          "name": "stdout"
        }
      ]
    },
    {
      "cell_type": "code",
      "metadata": {
        "id": "bJNddHQS8V8b",
        "colab_type": "code",
        "colab": {}
      },
      "source": [
        ""
      ],
      "execution_count": 0,
      "outputs": []
    },
    {
      "cell_type": "markdown",
      "metadata": {
        "id": "Qx-_5fqf8Yc5",
        "colab_type": "text"
      },
      "source": [
        "#Funciones de los String"
      ]
    },
    {
      "cell_type": "markdown",
      "metadata": {
        "id": "2S0zbCxP8xLv",
        "colab_type": "text"
      },
      "source": [
        "##Ejercicio 1\n",
        "Solicitar el ingreso de un nombre, una materia y el la matricula e imprimirla con el siguiente formato:\n",
        "\n",
        "\n",
        "\n",
        "```\n",
        "Ingrese su nombre: carlos loja\n",
        "Ingrese la Materia: fundamentos de programacion\n",
        "=======FUNDAMENTOS DE PROGRAMACION=======\n",
        "El estudiante Carlos Loja esta cursando la materia Fundamentos De Programacion\n",
        "```\n",
        "\n",
        "\n",
        "\n",
        "\n"
      ]
    },
    {
      "cell_type": "code",
      "metadata": {
        "id": "NvyBEw-y8cTd",
        "colab_type": "code",
        "outputId": "89fedd54-f49b-4315-bc02-420616bfa2b6",
        "colab": {
          "base_uri": "https://localhost:8080/",
          "height": 90
        }
      },
      "source": [
        "nombre= input(\"Ingrese un nombre: \")\n",
        "materia=input(\"Ingrese una materia: \")\n",
        "mayusculas=materia.upper()\n",
        "nombreCambiado=nombre.title()\n",
        "\n",
        "print(mayusculas.center(40,\"=\"))\n",
        "print(\"El estudiante \"+nombreCambiado+\" esta cursando la materia \"+ materia.title())"
      ],
      "execution_count": 0,
      "outputs": [
        {
          "output_type": "stream",
          "text": [
            "Ingrese un nombre: carlos loja\n",
            "Ingrese una materia: fundamentos de programacion\n",
            "======FUNDAMENTOS DE PROGRAMACION=======\n",
            "El estudiante Carlos Loja esta cursando la materia Fundamentos De Programacion\n"
          ],
          "name": "stdout"
        }
      ]
    },
    {
      "cell_type": "code",
      "metadata": {
        "id": "SMbvtYV47ZsZ",
        "colab_type": "code",
        "outputId": "80db9c6b-cdb3-4484-9c54-9a6a55f9702e",
        "colab": {
          "base_uri": "https://localhost:8080/",
          "height": 72
        }
      },
      "source": [
        "print(\"Palbra\".center(50,\"=\"))\n",
        "print(\"hola\".upper())\n",
        "print(\"carlos loja\".title())"
      ],
      "execution_count": 0,
      "outputs": [
        {
          "output_type": "stream",
          "text": [
            "======================Palbra======================\n",
            "HOLA\n",
            "Carlos Loja\n"
          ],
          "name": "stdout"
        }
      ]
    },
    {
      "cell_type": "markdown",
      "metadata": {
        "id": "7eKVbKPHFGtL",
        "colab_type": "text"
      },
      "source": [
        "#Secuencias de Escape\n",
        "![image.png](data:image/png;base64,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)"
      ]
    },
    {
      "cell_type": "code",
      "metadata": {
        "id": "MhtanUFI84HC",
        "colab_type": "code",
        "outputId": "c9988971-f0c9-441b-f479-eff56e1013c9",
        "colab": {
          "base_uri": "https://localhost:8080/",
          "height": 72
        }
      },
      "source": [
        "print(\"hola\\nhola\")\n",
        "print(\"hola\\thola\")\n"
      ],
      "execution_count": 0,
      "outputs": [
        {
          "output_type": "stream",
          "text": [
            "hola\n",
            "hola\n",
            "hola\thola\n"
          ],
          "name": "stdout"
        }
      ]
    },
    {
      "cell_type": "markdown",
      "metadata": {
        "id": "9Njhm4O28vUn",
        "colab_type": "text"
      },
      "source": [
        "##Ejercicio 2\n",
        "\n",
        "\n",
        "```\n",
        "Escriba un programa que pida una cadena de \n",
        "caracteres de 4 letras, luego muestre cada letra de \n",
        "la cadena escrita dos veces, en mayúsculas y\n",
        "separada por un tab (NO espacios en blanco). \n",
        "Por ejemplo: s=Chao  ---->    CC\tHH\tAA\tOO\n",
        "\n",
        "```\n",
        "\n"
      ]
    },
    {
      "cell_type": "code",
      "metadata": {
        "id": "kRGylKgIBEmI",
        "colab_type": "code",
        "outputId": "f4173c23-a49c-4cd9-f55a-c88f9f1b024f",
        "colab": {
          "base_uri": "https://localhost:8080/",
          "height": 54
        }
      },
      "source": [
        "ingreso=input(\"Ingrese palabra: \" )\n",
        "i1=ingreso[0].upper()*2\n",
        "i2=ingreso[1].upper()*2\n",
        "i3=ingreso[2].upper()*2\n",
        "i4=ingreso[3].upper()*2\n",
        "\n",
        "print(i1+\"\\t\"+i2+\"\\t\"+i3+\"\\t\"+i4)"
      ],
      "execution_count": 0,
      "outputs": [
        {
          "output_type": "stream",
          "text": [
            "Ingrese palabra: chao\n",
            "CC\tHH\tAA\tOO\n"
          ],
          "name": "stdout"
        }
      ]
    },
    {
      "cell_type": "code",
      "metadata": {
        "id": "6pdG9g7ACXNG",
        "colab_type": "code",
        "colab": {}
      },
      "source": [
        ""
      ],
      "execution_count": 0,
      "outputs": []
    },
    {
      "cell_type": "code",
      "metadata": {
        "id": "Kj95T8qrClmP",
        "colab_type": "code",
        "colab": {}
      },
      "source": [
        ""
      ],
      "execution_count": 0,
      "outputs": []
    },
    {
      "cell_type": "markdown",
      "metadata": {
        "id": "UC7oyGQIIVHr",
        "colab_type": "text"
      },
      "source": [
        "\n",
        "##Ejercicio 3\n",
        "```\n",
        "Escriba un programa que pida ingresar una cadena\n",
        "de caracteres (input). El programa deberá mostrar\n",
        "por pantalla lo siguiente:\n",
        "o\tEl número total de caracteres\n",
        "o\tLa cadena repetida 5 veces separada por “-”\n",
        "o\tLos dos últimos caracteres de la cadena\n",
        "o\tLa cadena escrita al revés (Chao --> oahC)\n",
        "o\tLa cadena con cada letra “a” remplazada por una “e”\n",
        "o\tLa “contraseña” de la palabra.    Chao ---> * * * *\n",
        "\n",
        "```\n",
        "\n"
      ]
    },
    {
      "cell_type": "code",
      "metadata": {
        "id": "TQ_P6cvmJlLs",
        "colab_type": "code",
        "outputId": "f1be1410-1176-4dba-adc6-df6e3c404c1a",
        "colab": {
          "base_uri": "https://localhost:8080/",
          "height": 54
        }
      },
      "source": [
        "ingreso=input(\"Ingrese una palabra: \")\n",
        "tamanio=len(ingreso)\n",
        "print(tamanio)\n"
      ],
      "execution_count": 0,
      "outputs": [
        {
          "output_type": "stream",
          "text": [
            "Ingrese una palabra: hola\n",
            "4\n"
          ],
          "name": "stdout"
        }
      ]
    },
    {
      "cell_type": "code",
      "metadata": {
        "id": "oG8Gw6Q1AB23",
        "colab_type": "code",
        "outputId": "1fef2884-24a5-4c1d-b734-b20c264482e3",
        "colab": {
          "base_uri": "https://localhost:8080/",
          "height": 35
        }
      },
      "source": [
        "palabraRepetida=(ingreso+\"-\")*5\n",
        "print(palabraRepetida[:-1])"
      ],
      "execution_count": 0,
      "outputs": [
        {
          "output_type": "stream",
          "text": [
            "hola-hola-hola-hola-hola\n"
          ],
          "name": "stdout"
        }
      ]
    },
    {
      "cell_type": "code",
      "metadata": {
        "id": "6Cy58VbKAYHU",
        "colab_type": "code",
        "outputId": "2af092b0-eb43-4f84-ee4c-f4162fe91b41",
        "colab": {
          "base_uri": "https://localhost:8080/",
          "height": 35
        }
      },
      "source": [
        "ultimosCarateres=ingreso[-2:]\n",
        "print(ultimosCarateres)"
      ],
      "execution_count": 0,
      "outputs": [
        {
          "output_type": "stream",
          "text": [
            "la\n"
          ],
          "name": "stdout"
        }
      ]
    },
    {
      "cell_type": "code",
      "metadata": {
        "id": "OFvG3lwVAqYs",
        "colab_type": "code",
        "outputId": "cc345670-6730-4810-f75a-8641a2601af3",
        "colab": {
          "base_uri": "https://localhost:8080/",
          "height": 35
        }
      },
      "source": [
        "palabraAlreves=ingreso[::-1]\n",
        "print(palabraAlreves)"
      ],
      "execution_count": 0,
      "outputs": [
        {
          "output_type": "stream",
          "text": [
            "aloh\n"
          ],
          "name": "stdout"
        }
      ]
    },
    {
      "cell_type": "code",
      "metadata": {
        "id": "o0lCOKpOBWgU",
        "colab_type": "code",
        "outputId": "75cea9d5-4bac-4311-82f3-ea48fe7b2e1e",
        "colab": {
          "base_uri": "https://localhost:8080/",
          "height": 35
        }
      },
      "source": [
        "frase=\"hola mundo bla bla\"\n",
        "pala=frase[1:2]+frase[3:7]\n",
        "print(pala)"
      ],
      "execution_count": 0,
      "outputs": [
        {
          "output_type": "stream",
          "text": [
            "oa mu\n"
          ],
          "name": "stdout"
        }
      ]
    },
    {
      "cell_type": "code",
      "metadata": {
        "id": "V4uyHvzICNz9",
        "colab_type": "code",
        "outputId": "bc899bf5-0749-44ed-ac5a-033e086bac74",
        "colab": {
          "base_uri": "https://localhost:8080/",
          "height": 35
        }
      },
      "source": [
        "nuevaPalabra=frase.replace(\"a\",\"b\")\n",
        "print(nuevaPalabra)"
      ],
      "execution_count": 0,
      "outputs": [
        {
          "output_type": "stream",
          "text": [
            "holb mundo blb blb\n"
          ],
          "name": "stdout"
        }
      ]
    },
    {
      "cell_type": "code",
      "metadata": {
        "id": "MeXKSb90ChhX",
        "colab_type": "code",
        "outputId": "90cdd41d-a1c2-40ff-a8be-77a35556c103",
        "colab": {
          "base_uri": "https://localhost:8080/",
          "height": 35
        }
      },
      "source": [
        "tamanio=len(frase)\n",
        "contrasena=\"*\"*tamanio\n",
        "print(contrasena)"
      ],
      "execution_count": 0,
      "outputs": [
        {
          "output_type": "stream",
          "text": [
            "******************\n"
          ],
          "name": "stdout"
        }
      ]
    },
    {
      "cell_type": "markdown",
      "metadata": {
        "id": "PJWY_fmgRNOD",
        "colab_type": "text"
      },
      "source": [
        "#Ramdom\n",
        "\n",
        "\n",
        "*   Libreria random\n",
        "\n"
      ]
    },
    {
      "cell_type": "code",
      "metadata": {
        "id": "Lfup-0hlBVyg",
        "colab_type": "code",
        "colab": {}
      },
      "source": [
        "import random as rd"
      ],
      "execution_count": 0,
      "outputs": []
    },
    {
      "cell_type": "code",
      "metadata": {
        "id": "IUdKV2GmRXxR",
        "colab_type": "code",
        "outputId": "704b2907-d017-4717-e8db-82ed96d75eaf",
        "colab": {
          "base_uri": "https://localhost:8080/",
          "height": 54
        }
      },
      "source": [
        "var=rd.randint(8,80)\n",
        "print(var)\n",
        "var1=rd.randrange(80)\n",
        "print(var1)"
      ],
      "execution_count": 0,
      "outputs": [
        {
          "output_type": "stream",
          "text": [
            "70\n",
            "56\n"
          ],
          "name": "stdout"
        }
      ]
    },
    {
      "cell_type": "code",
      "metadata": {
        "id": "yYoJ3kmMRk9o",
        "colab_type": "code",
        "colab": {}
      },
      "source": [
        ""
      ],
      "execution_count": 0,
      "outputs": []
    },
    {
      "cell_type": "markdown",
      "metadata": {
        "id": "uX71rLCAJls8",
        "colab_type": "text"
      },
      "source": [
        "#Listas\n",
        "\n",
        "\n",
        "*   Instanciación\n",
        "*   Operaciones\n",
        "\n",
        "Carateristicas:\n",
        "\n",
        "\n",
        "1.   Mutables\n",
        "2.   Permite cualquier tipo de dato\n",
        "\n",
        "\n",
        "\n"
      ]
    },
    {
      "cell_type": "code",
      "metadata": {
        "id": "wTonpIqFJnLZ",
        "colab_type": "code",
        "outputId": "9fffe2d1-f3db-44cf-c1b6-07c6607757fe",
        "colab": {
          "base_uri": "https://localhost:8080/",
          "height": 35
        }
      },
      "source": [
        "var=[]\n",
        "var2=list()\n",
        "nombres=[\"Carlos\",\"Juan\",\"Roberto\"]\n",
        "nombres.remove(\"Roberto\")\n",
        "nombres.append(\"Peter\")\n",
        "print(nombres)\n"
      ],
      "execution_count": 0,
      "outputs": [
        {
          "output_type": "stream",
          "text": [
            "['Carlos', 'Juan', 'Peter']\n"
          ],
          "name": "stdout"
        }
      ]
    },
    {
      "cell_type": "code",
      "metadata": {
        "id": "W_JAAfp3E_hY",
        "colab_type": "code",
        "outputId": "af09e0e4-235b-45a0-c37e-836478dad95c",
        "colab": {
          "base_uri": "https://localhost:8080/",
          "height": 35
        }
      },
      "source": [
        "lista=[\"hola\",1,2,3,4,\"carlos\",\"Roberto\",1.3,1.24,[1,2,3,4,5,6]]\n",
        "print(lista)"
      ],
      "execution_count": 0,
      "outputs": [
        {
          "output_type": "stream",
          "text": [
            "['hola', 1, 2, 3, 4, 'carlos', 'Roberto', 1.3, 1.24, [1, 2, 3, 4, 5, 6]]\n"
          ],
          "name": "stdout"
        }
      ]
    },
    {
      "cell_type": "code",
      "metadata": {
        "id": "IrquvMG-Fffr",
        "colab_type": "code",
        "outputId": "f2569847-bde2-4b75-c881-41c0e75fc00e",
        "colab": {
          "base_uri": "https://localhost:8080/",
          "height": 54
        }
      },
      "source": [
        "print(type(lista[-1]))\n",
        "print(type(lista[0]))"
      ],
      "execution_count": 0,
      "outputs": [
        {
          "output_type": "stream",
          "text": [
            "<class 'list'>\n",
            "<class 'str'>\n"
          ],
          "name": "stdout"
        }
      ]
    },
    {
      "cell_type": "code",
      "metadata": {
        "id": "UJvNogz6GFGs",
        "colab_type": "code",
        "outputId": "f9ad1c22-d7cd-4d6b-d0fd-9c486561ecce",
        "colab": {
          "base_uri": "https://localhost:8080/",
          "height": 35
        }
      },
      "source": [
        "print(lista[0][-1])"
      ],
      "execution_count": 0,
      "outputs": [
        {
          "output_type": "stream",
          "text": [
            "a\n"
          ],
          "name": "stdout"
        }
      ]
    },
    {
      "cell_type": "markdown",
      "metadata": {
        "id": "F3Yx1QdIGfCw",
        "colab_type": "text"
      },
      "source": [
        "##Operaciones de listas"
      ]
    },
    {
      "cell_type": "markdown",
      "metadata": {
        "id": "wakht_lyD57c",
        "colab_type": "text"
      },
      "source": [
        "\n",
        "\n",
        "1.   Suma\n",
        "2.   Multiplicacion\n",
        "\n"
      ]
    },
    {
      "cell_type": "code",
      "metadata": {
        "id": "uIHqvV_DNSfh",
        "colab_type": "code",
        "outputId": "3a348d38-73cf-4223-bad1-4a9e97158d97",
        "colab": {
          "base_uri": "https://localhost:8080/",
          "height": 54
        }
      },
      "source": [
        "lista=[1,2,3]+[\"carlos\",\"Robert\"]\n",
        "print(lista)\n",
        "listaNueva=lista*3\n",
        "print(listaNueva)"
      ],
      "execution_count": 0,
      "outputs": [
        {
          "output_type": "stream",
          "text": [
            "[1, 2, 3, 'carlos', 'Robert']\n",
            "[1, 2, 3, 'carlos', 'Robert', 1, 2, 3, 'carlos', 'Robert', 1, 2, 3, 'carlos', 'Robert']\n"
          ],
          "name": "stdout"
        }
      ]
    },
    {
      "cell_type": "code",
      "metadata": {
        "id": "3-l-fkQ0HQiD",
        "colab_type": "code",
        "colab": {}
      },
      "source": [
        ""
      ],
      "execution_count": 0,
      "outputs": []
    },
    {
      "cell_type": "markdown",
      "metadata": {
        "id": "9PWYnNrgHRbs",
        "colab_type": "text"
      },
      "source": [
        "##Busqueda en listas"
      ]
    },
    {
      "cell_type": "code",
      "metadata": {
        "id": "L6kE8sR7HT1R",
        "colab_type": "code",
        "outputId": "809e9812-a412-4d65-ce90-f7eeac99a337",
        "colab": {
          "base_uri": "https://localhost:8080/",
          "height": 35
        }
      },
      "source": [
        "lista=[1, 2, 3, 'carlos', 1, 2, 3, 'carlos', 'Robert', 1, 2, 3, 'carlos', 'Robert']\n",
        "indice=lista.index(\"Robert\")\n",
        "print(indice)\n"
      ],
      "execution_count": 0,
      "outputs": [
        {
          "output_type": "stream",
          "text": [
            "8\n"
          ],
          "name": "stdout"
        }
      ]
    },
    {
      "cell_type": "markdown",
      "metadata": {
        "id": "tFvEZCYgISBz",
        "colab_type": "text"
      },
      "source": [
        "##Ordenamiento"
      ]
    },
    {
      "cell_type": "code",
      "metadata": {
        "id": "YS5fB3QyIUOP",
        "colab_type": "code",
        "outputId": "8acded54-56c6-4976-e505-31a2b8fc69ad",
        "colab": {
          "base_uri": "https://localhost:8080/",
          "height": 35
        }
      },
      "source": [
        "listaN=[34,12,25,67,100]\n",
        "listaN.sort(reverse=True)\n",
        "print(listaN)"
      ],
      "execution_count": 0,
      "outputs": [
        {
          "output_type": "stream",
          "text": [
            "[100, 67, 34, 25, 12]\n"
          ],
          "name": "stdout"
        }
      ]
    },
    {
      "cell_type": "markdown",
      "metadata": {
        "id": "aUnMq0PtJJMl",
        "colab_type": "text"
      },
      "source": [
        "##Cambio de elementos"
      ]
    },
    {
      "cell_type": "code",
      "metadata": {
        "id": "TXUqwh71JMCD",
        "colab_type": "code",
        "outputId": "366cd3b4-2fe8-4baa-8228-8c3631f7a46a",
        "colab": {
          "base_uri": "https://localhost:8080/",
          "height": 35
        }
      },
      "source": [
        "listaN[0]=457\n",
        "print(listaN)"
      ],
      "execution_count": 0,
      "outputs": [
        {
          "output_type": "stream",
          "text": [
            "[457, 67, 34, 25, 12]\n"
          ],
          "name": "stdout"
        }
      ]
    },
    {
      "cell_type": "markdown",
      "metadata": {
        "id": "T8HDeP8jRyNe",
        "colab_type": "text"
      },
      "source": [
        "##Ejercicio 1\n",
        "\n",
        "\n",
        "\n",
        "```\n",
        "Escribir un programa que tenga una lista de palabras\n",
        "(al menos unas 4) y que devuelva aleatoriamente\n",
        "cualquiera de estas palabras repetida dos veces,\n",
        "pero escrita al revés, ej.\n",
        ">>> Palabras: Fundamentos, Programacion, Lenguaje, Python\n",
        "La palabra aleatoria invertida es: ejauagneLejauagneL\n",
        "\n",
        "```\n",
        "\n"
      ]
    },
    {
      "cell_type": "code",
      "metadata": {
        "id": "P2EKEVfeJwaO",
        "colab_type": "code",
        "outputId": "c4339ff9-cb0f-4059-e21e-ce797a43993c",
        "colab": {
          "base_uri": "https://localhost:8080/",
          "height": 35
        }
      },
      "source": [
        "lista=[\"Fundamentos\", \"Programacion\", \"Lenguaje\", \"Python\"]\n",
        "indice=rd.randrange(len(lista))\n",
        "palabraSeleccionada=lista[indice]\n",
        "palabraReverso=palabraSeleccionada[::-1]\n",
        "palabraRepetida=palabraReverso*2\n",
        "print(palabraRepetida)"
      ],
      "execution_count": 0,
      "outputs": [
        {
          "output_type": "stream",
          "text": [
            "sotnemadnuFsotnemadnuF\n"
          ],
          "name": "stdout"
        }
      ]
    },
    {
      "cell_type": "code",
      "metadata": {
        "id": "kA2SYSSNQtPk",
        "colab_type": "code",
        "colab": {}
      },
      "source": [
        ""
      ],
      "execution_count": 0,
      "outputs": []
    },
    {
      "cell_type": "markdown",
      "metadata": {
        "id": "ifps8j2hU1fu",
        "colab_type": "text"
      },
      "source": [
        "##Ejercicio 2\n",
        "\n",
        "\n",
        "```\n",
        "Escribir un programa que almacene en una lista los\n",
        "siguientes precios, 50, 75, 46, 22, 80, 65, 8, y\n",
        "muestre por pantalla el menor y el mayor de los\n",
        "precios, ademas eliminelos de la lista original.\n",
        "```\n",
        "\n"
      ]
    },
    {
      "cell_type": "code",
      "metadata": {
        "id": "ktvG9AifVxJ9",
        "colab_type": "code",
        "colab": {}
      },
      "source": [
        ""
      ],
      "execution_count": 0,
      "outputs": []
    },
    {
      "cell_type": "markdown",
      "metadata": {
        "id": "VmpQFe9kV5CZ",
        "colab_type": "text"
      },
      "source": [
        "###Primer metodo\n",
        "\n",
        "\n",
        "*   sort()\n",
        "*   remove()\n",
        "\n"
      ]
    },
    {
      "cell_type": "code",
      "metadata": {
        "id": "9bg5JU_yV664",
        "colab_type": "code",
        "outputId": "f2702f88-353c-40a7-a4fd-b1094d397345",
        "colab": {
          "base_uri": "https://localhost:8080/",
          "height": 35
        }
      },
      "source": [
        "lista=[50, 75, 46, 22, 80, 65, 8]\n",
        "lista.sort()\n",
        "maximo=lista[-1]\n",
        "minimo=lista[0]\n",
        "lista.remove(maximo)\n",
        "lista.remove(minimo)\n",
        "print(lista)"
      ],
      "execution_count": 0,
      "outputs": [
        {
          "output_type": "stream",
          "text": [
            "[22, 46, 50, 65, 75]\n"
          ],
          "name": "stdout"
        }
      ]
    },
    {
      "cell_type": "code",
      "metadata": {
        "id": "7PYt2mdcWKso",
        "colab_type": "code",
        "colab": {}
      },
      "source": [
        ""
      ],
      "execution_count": 0,
      "outputs": []
    },
    {
      "cell_type": "markdown",
      "metadata": {
        "id": "qBGX6GJVWorB",
        "colab_type": "text"
      },
      "source": [
        "###Segundo Metodo\n",
        "\n",
        "\n",
        "*   Indexacion\n",
        "\n"
      ]
    },
    {
      "cell_type": "code",
      "metadata": {
        "id": "jbF3BzT7Man-",
        "colab_type": "code",
        "outputId": "81d17381-6eda-46ff-bc00-d1eb5bdd458b",
        "colab": {
          "base_uri": "https://localhost:8080/",
          "height": 35
        }
      },
      "source": [
        "lista=[50, 75, 46, 22, 80, 65, 8]\n",
        "lista.sort()\n",
        "print(lista[1:-1])"
      ],
      "execution_count": 0,
      "outputs": [
        {
          "output_type": "stream",
          "text": [
            "[22, 46, 50, 65, 75]\n"
          ],
          "name": "stdout"
        }
      ]
    },
    {
      "cell_type": "markdown",
      "metadata": {
        "id": "DsDPJHihMzBK",
        "colab_type": "text"
      },
      "source": [
        "##Tercer Metodo\n",
        "\n",
        "\n",
        "*   Max\n",
        "*   Min\n",
        "\n"
      ]
    },
    {
      "cell_type": "code",
      "metadata": {
        "id": "EB-CMFE7M5I-",
        "colab_type": "code",
        "outputId": "87696cab-02d4-4d44-aea9-071e1b9ddda8",
        "colab": {
          "base_uri": "https://localhost:8080/",
          "height": 35
        }
      },
      "source": [
        "lista=[50, 75, 46, 22, 80, 65, 8]\n",
        "maximo=max(lista)\n",
        "minimo=min(lista)\n",
        "lista.remove(maximo)\n",
        "lista.remove(minimo)\n",
        "lista.sort()\n",
        "print(lista)"
      ],
      "execution_count": 0,
      "outputs": [
        {
          "output_type": "stream",
          "text": [
            "[22, 46, 50, 65, 75]\n"
          ],
          "name": "stdout"
        }
      ]
    },
    {
      "cell_type": "code",
      "metadata": {
        "id": "a-sG3JJTXBM1",
        "colab_type": "code",
        "outputId": "82abf1e8-0181-45db-9c3c-14b361a9145e",
        "colab": {
          "base_uri": "https://localhost:8080/",
          "height": 35
        }
      },
      "source": [
        "lista = list(\"Hola mundo\")\n",
        "lista\n"
      ],
      "execution_count": 0,
      "outputs": [
        {
          "output_type": "execute_result",
          "data": {
            "text/plain": [
              "['H', 'o', 'l', 'a', ' ', 'm', 'u', 'n', 'd', 'o']"
            ]
          },
          "metadata": {
            "tags": []
          },
          "execution_count": 104
        }
      ]
    },
    {
      "cell_type": "code",
      "metadata": {
        "id": "NRry2TY7XBlC",
        "colab_type": "code",
        "colab": {}
      },
      "source": [
        ""
      ],
      "execution_count": 0,
      "outputs": []
    },
    {
      "cell_type": "code",
      "metadata": {
        "id": "Zwyk8K4kNthL",
        "colab_type": "code",
        "colab": {}
      },
      "source": [
        ""
      ],
      "execution_count": 0,
      "outputs": []
    },
    {
      "cell_type": "markdown",
      "metadata": {
        "id": "FOQ8xojzNuAc",
        "colab_type": "text"
      },
      "source": [
        "#Metodo String\n",
        "Split"
      ]
    },
    {
      "cell_type": "code",
      "metadata": {
        "id": "8A0UtxwpagV_",
        "colab_type": "code",
        "outputId": "7885c425-4aac-4b36-cf28-517d7053bc15",
        "colab": {
          "base_uri": "https://localhost:8080/",
          "height": 35
        }
      },
      "source": [
        "variable=\"En la sección Nickname, indicar nombres y apellidos completos. No usar caracteres especiales.\"\n",
        "lista=variable.split(\" \")\n",
        "print(lista)"
      ],
      "execution_count": 0,
      "outputs": [
        {
          "output_type": "stream",
          "text": [
            "['En', 'la', 'sección', 'Nickname,', 'indicar', 'nombres', 'y', 'apellidos', 'completos.', 'No', 'usar', 'caracteres', 'especiales.']\n"
          ],
          "name": "stdout"
        }
      ]
    },
    {
      "cell_type": "code",
      "metadata": {
        "id": "XcuADWNvN_rd",
        "colab_type": "code",
        "outputId": "e8b1e695-fb20-456e-edf0-364274477f30",
        "colab": {
          "base_uri": "https://localhost:8080/",
          "height": 35
        }
      },
      "source": [
        "cobro=0.20\n",
        "total1=len(lista)*cobro\n",
        "total1"
      ],
      "execution_count": 0,
      "outputs": [
        {
          "output_type": "execute_result",
          "data": {
            "text/plain": [
              "2.6"
            ]
          },
          "metadata": {
            "tags": []
          },
          "execution_count": 113
        }
      ]
    },
    {
      "cell_type": "code",
      "metadata": {
        "id": "lkQOt85WOnTv",
        "colab_type": "code",
        "outputId": "e3d4010e-d8eb-49c4-f17d-8d5c5b033e2a",
        "colab": {
          "base_uri": "https://localhost:8080/",
          "height": 35
        }
      },
      "source": [
        "totalPalabras=variable.count(\" \")+1\n",
        "total=totalPalabras*cobro\n",
        "total"
      ],
      "execution_count": 0,
      "outputs": [
        {
          "output_type": "execute_result",
          "data": {
            "text/plain": [
              "2.6"
            ]
          },
          "metadata": {
            "tags": []
          },
          "execution_count": 114
        }
      ]
    },
    {
      "cell_type": "code",
      "metadata": {
        "id": "NbH9tt8RO7UR",
        "colab_type": "code",
        "colab": {}
      },
      "source": [
        ""
      ],
      "execution_count": 0,
      "outputs": []
    }
  ]
}